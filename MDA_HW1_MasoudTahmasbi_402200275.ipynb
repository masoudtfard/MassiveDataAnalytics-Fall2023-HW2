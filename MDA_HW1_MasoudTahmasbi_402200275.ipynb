{
  "nbformat": 4,
  "nbformat_minor": 0,
  "metadata": {
    "colab": {
      "provenance": [],
      "collapsed_sections": [
        "04b0ae4f",
        "13157b6b",
        "a056f0d5",
        "EZSdyhDqTQS7",
        "OsaQHPiQlik0",
        "OKJ5LG2KHnCB",
        "E68y4jsLoB_D",
        "59T0sW9PHtHu",
        "qWhtRk3BoI9i",
        "kFrR-uW8oTC9"
      ],
      "toc_visible": true
    },
    "kernelspec": {
      "name": "python3",
      "display_name": "Python 3"
    },
    "language_info": {
      "name": "python"
    }
  },
  "cells": [
    {
      "cell_type": "markdown",
      "source": [
        "***\n",
        "<center><img src='https://github.com/HesamAsad/HesamAsad.github.io/blob/main/images/LOGO_EN_blue.png?raw=true' width=250/></center>\n",
        "\n",
        "# <center>\n",
        "## <center><span style='font-family:\"Times New Roman\"'><span style='background:dark'>  <font color='#1966ab'>$\\LARGE{\\text{Sharif University of Technology}}$</font>  <br>  <br>  <font color='#FFFFCC'>$\\Large{\\text{Masoud Tahmasbi}}$ </font> <br> <font color='#FFFFCC'>$\\normalsize {\\text{Student ID: } 402200275}$ </font>  <br>  <br> <font color='#33FFCC'>$\\large{\\text{EE577: Massive Data Analytics}}$</font> <br>  <font color='#FFFF00'>$\\normalsize{\\text{Assignment #1 - Introduction to PySpark}}$ </font>\n",
        "<br>\n",
        "\n",
        "***"
      ],
      "metadata": {
        "id": "XinemsCLjBsV"
      }
    },
    {
      "cell_type": "markdown",
      "metadata": {
        "id": "51d038ab"
      },
      "source": [
        "# $\\text{Section 1: Dataset prepartition}$\n"
      ]
    },
    {
      "cell_type": "markdown",
      "metadata": {
        "id": "04b0ae4f"
      },
      "source": [
        "## $\\text{Install Pypark & Initialization}$\n"
      ]
    },
    {
      "cell_type": "code",
      "execution_count": null,
      "metadata": {
        "id": "237c3551",
        "colab": {
          "base_uri": "https://localhost:8080/"
        },
        "outputId": "9e07afa8-cedd-44c3-cadf-eda13b2ae096"
      },
      "outputs": [
        {
          "output_type": "stream",
          "name": "stdout",
          "text": [
            "Collecting pyspark\n",
            "  Downloading pyspark-3.5.0.tar.gz (316.9 MB)\n",
            "\u001b[2K     \u001b[90m━━━━━━━━━━━━━━━━━━━━━━━━━━━━━━━━━━━━━━━━\u001b[0m \u001b[32m316.9/316.9 MB\u001b[0m \u001b[31m2.2 MB/s\u001b[0m eta \u001b[36m0:00:00\u001b[0m\n",
            "\u001b[?25h  Preparing metadata (setup.py) ... \u001b[?25l\u001b[?25hdone\n",
            "Requirement already satisfied: py4j==0.10.9.7 in /usr/local/lib/python3.10/dist-packages (from pyspark) (0.10.9.7)\n",
            "Building wheels for collected packages: pyspark\n",
            "  Building wheel for pyspark (setup.py) ... \u001b[?25l\u001b[?25hdone\n",
            "  Created wheel for pyspark: filename=pyspark-3.5.0-py2.py3-none-any.whl size=317425345 sha256=f7897a06c181cb101f06d2880b60a2ef4d9238fcdeefafb50964e38afeb3cf4a\n",
            "  Stored in directory: /root/.cache/pip/wheels/41/4e/10/c2cf2467f71c678cfc8a6b9ac9241e5e44a01940da8fbb17fc\n",
            "Successfully built pyspark\n",
            "Installing collected packages: pyspark\n",
            "Successfully installed pyspark-3.5.0\n"
          ]
        }
      ],
      "source": [
        "! pip install pyspark"
      ]
    },
    {
      "cell_type": "code",
      "source": [
        "from google.colab import drive\n",
        "drive.mount('/content/gdrive')\n",
        "\n",
        "!cp '/content/gdrive/My Drive/Copy of data.tar.gz' data\n",
        "!tar -xzvf \"/content/data\""
      ],
      "metadata": {
        "colab": {
          "base_uri": "https://localhost:8080/"
        },
        "id": "Xmb3CBId6UCQ",
        "outputId": "1d9c94da-9093-4d62-9508-42edb82aa940"
      },
      "execution_count": null,
      "outputs": [
        {
          "output_type": "stream",
          "name": "stdout",
          "text": [
            "Mounted at /content/gdrive\n",
            "news_data.jsonl\n"
          ]
        }
      ]
    },
    {
      "cell_type": "code",
      "execution_count": null,
      "metadata": {
        "id": "3706a8d1"
      },
      "outputs": [],
      "source": [
        "from pyspark.sql import SparkSession\n",
        "spark = SparkSession \\\n",
        "    .builder \\\n",
        "    .appName(\"HW1\") \\\n",
        "    .master(\"local[*]\") \\\n",
        "    .getOrCreate()\n",
        "\n",
        "sc=spark.sparkContext"
      ]
    },
    {
      "cell_type": "markdown",
      "metadata": {
        "id": "13157b6b"
      },
      "source": [
        "## $\\text{Reading the data}$"
      ]
    },
    {
      "cell_type": "code",
      "source": [
        "news_rdd = sc.textFile(\"news_data.jsonl\")"
      ],
      "metadata": {
        "id": "ysvE-gJSeB1a"
      },
      "execution_count": null,
      "outputs": []
    },
    {
      "cell_type": "code",
      "execution_count": null,
      "metadata": {
        "id": "2a2f4ee5",
        "colab": {
          "base_uri": "https://localhost:8080/"
        },
        "outputId": "36a0a073-2d29-4e80-d7ac-426e3af4d9c9"
      },
      "outputs": [
        {
          "output_type": "execute_result",
          "data": {
            "text/plain": [
              "['{\"body\": \"نشست بزرگداشت روز جهانی حافظ شیرازی 20 مهرماه در دانشگاه پکن برگزار می شود.\\\\n\\\\n- ایرنا نوشت: با همکاری مشترک گروه زبان و ادبیات فارسی دانشگاه پکن و رایزنی فرهنگی جمهوری اسلامی ایران در چین، نشست بزرگداشت روز جهانی حافظ شیرازی روز پنجشنبه 20 مهرماه ساعت 10:30 تا 12 در دانشگاه پکن برگزار می شود.\\\\n\\\\nدر این نشست، محسن بختیار، سفیر و نعمت الله ایران زاده، رایزن فرهنگی جمهوری اسلامی ایران در چین، پروفسور چن مینْگ، رییس محترم دانشکده زبان های خارجی دانشگاه پکن، بهادر باقری، استاد مدعو زبان و ادبیات فارسی دانشکده زبان های خارجی دانشگاه پکن، سخنرانی می کنند.\\\\n\\\\nخانم وانگ یی دان، استاد رشته زبان و ادبیات فارسی دانشگاه پکن، شی گوانگ، استاد رشته زبان و ادبیات فارسی و مدیر مرکز پژوهش های فرهنگ ایران در دانشگاه پکن و لیو یینگ جون، استاد و مدیر گروه زبان و ادبیات فارسی دانشگاه پکن از دیگر سخنرانان این نشست هستند.\", \"image_title_url\": \"https://ettelaat.com/files/fa/news/1402/7/20/82679_282.jpg\", \"language\": \"fa\", \"source\": \"موتور جستجوی قطره\", \"title\": \"ادای احترام چینی ها به حافظ +عکس | نشست بزرگداشت روز جهانی\", \"date_published\": 1697070054, \"uid\": \"7de950ad0cf5f22ed1d740feb\", \"url\": \"https://www.ghatreh.com/news/nn14020701825494745088/ادای-احترام-چینی-حافظ-عکس\", \"crawler_timestamp\": 1697070106, \"ingestor_timestamp\": 1697086977, \"summary\": \"نشست بزرگداشت روز جهانی حافظ شیرازی 20 مهرماه در دانشگاه پکن برگزار می شود. - ایرنا نوشت:\\xa0با همکاری مشترک گروه ز�\", \"hostname\": \"ghatreh.com\", \"parser_categories\": [], \"keywords\": [\"رییس محترم دانشکده زبان\\u200cهای خارجی دانشگاه پکن\", \"استاد رشته زبان و ادبیات فارسی\", \"نشست بزرگداشت روز جهانی حافظ شیرازی\", \"رایزن فرهنگی جمهوری اسلامی ایران\"], \"parser_keyword\": [\"ادبیات فارسی\", \"دانشگاه\", \"جمهوری اسلامی ایران\", \"ادبیات\", \"زبان\", \"فارسی\", \"جمهوری اسلامی\"], \"author\": \"حسن قلي پور خطير\", \"processed_body\": \"نشست بزرگداشت روز جهانی حافظ شیرازی 20 مهرماه در دانشگاه پکن برگزار می شود.\\\\n\\\\n- ایرنا نوشت: با همکاری مشترک گروه زبان و ادبیات فارسی دانشگاه پکن و رایزنی فرهنگی جمهوری اسلامی ایران در چین، نشست بزرگداشت روز جهانی حافظ شیرازی روز پنجشنبه 20 مهرماه ساعت 10:30 تا 12 در دانشگاه پکن برگزار می شود.\\\\n\\\\nدر این نشست، محسن بختیار، سفیر و نعمت الله ایران زاده، رایزن فرهنگی جمهوری اسلامی ایران در چین، پروفسور چن مینْگ، رییس محترم دانشکده زبان های خارجی دانشگاه پکن، بهادر باقری، استاد مدعو زبان و ادبیات فارسی دانشکده زبان های خارجی دانشگاه پکن، سخنرانی می کنند.\\\\n\\\\nخانم وانگ یی دان، استاد رشته زبان و ادبیات فارسی دانشگاه پکن، شی گوانگ، استاد رشته زبان و ادبیات فارسی و مدیر مرکز پژوهش های فرهنگ ایران در دانشگاه پکن و لیو یینگ جون، استاد و مدیر گروه زبان و ادبیات فارسی دانشگاه پکن از دیگر سخنرانان این نشست هستند.\", \"categories\": [\"politics\"], \"ner_tags\": [{\"type\": \"NORP\", \"entity\": \"چینی\"}, {\"type\": \"EVE\", \"entity\": \"نشست بزرگداشت روز جهانی حافظ شیرازی\"}, {\"type\": \"FAC\", \"entity\": \"دانشگاه پکن\"}, {\"type\": \"ORG\", \"entity\": \"ایرنا\"}, {\"type\": \"EVE\", \"entity\": \"نشست بزرگداشت روز جهانی حافظ شیرازی\"}, {\"type\": \"FAC\", \"entity\": \"دانشگاه پکن\"}, {\"type\": \"ORG\", \"entity\": \"ایرنا\"}, {\"type\": \"ORG\", \"entity\": \"گروه زبان و ادبیات فارسی دانشگاه پکن و رایزنی فرهنگی جمهوری اسلامی ایران\"}, {\"type\": \"GPE\", \"entity\": \"چین\"}, {\"type\": \"EVE\", \"entity\": \"نشست بزرگداشت روز جهانی حافظ شیرازی\"}, {\"type\": \"FAC\", \"entity\": \"دانشگاه پکن\"}, {\"type\": \"PER\", \"entity\": \"محسن بختیار\"}, {\"type\": \"POST\", \"entity\": \"سفیر\"}, {\"type\": \"PER\", \"entity\": \"نعمت الله ایران زاده\"}, {\"type\": \"POST\", \"entity\": \"رایزن فرهنگی جمهوری اسلامی ایران\"}, {\"type\": \"GPE\", \"entity\": \"چین\"}, {\"type\": \"PER\", \"entity\": \"پروفسور چن مینگ\"}, {\"type\": \"POST\", \"entity\": \"رییس محترم دانشکده زبان\\u200cهای خارجی دانشگاه پکن\"}, {\"type\": \"PER\", \"entity\": \"بهادر باقری\"}, {\"type\": \"POST\", \"entity\": \"استاد مدعو زبان و ادبیات فارسی دانشکده زبان\\u200cهای خارجی دانشگاه پکن\"}, {\"type\": \"PER\", \"entity\": \"وانگ یی دان\"}, {\"type\": \"POST\", \"entity\": \"استاد رشته زبان و ادبیات فارسی دانشگاه پکن\"}, {\"type\": \"PER\", \"entity\": \"شی گوانگ\"}, {\"type\": \"POST\", \"entity\": \"استاد رشته زبان و ادبیات فارسی\"}, {\"type\": \"POST\", \"entity\": \"مدیر مرکز پژوهش\\u200cهای فرهنگ ایران\"}, {\"type\": \"FAC\", \"entity\": \"دانشگاه پکن\"}, {\"type\": \"PER\", \"entity\": \"لیو یینگ جون\"}, {\"type\": \"POST\", \"entity\": \"استاد\"}, {\"type\": \"POST\", \"entity\": \"مدیر گروه زبان و ادبیات فارسی دانشگاه پکن\"}]}']"
            ]
          },
          "metadata": {},
          "execution_count": 4
        }
      ],
      "source": [
        "news_rdd = sc.textFile(\"news_data.jsonl\")\n",
        "news_rdd.takeSample(False, 1, 12)"
      ]
    },
    {
      "cell_type": "markdown",
      "metadata": {
        "id": "a056f0d5"
      },
      "source": [
        "***\n",
        "\n",
        "# $\\text{Section 2: Preprocessing}$\n",
        "$\\text{This section we try to normalize news and remove useless characters (for example /n and /} \\\\ \\text{u200c and ...). Also find and remove stop words.}$"
      ]
    },
    {
      "cell_type": "code",
      "execution_count": null,
      "metadata": {
        "id": "2c9d2648"
      },
      "outputs": [],
      "source": [
        "# import neccesary packages here\n",
        "import json"
      ]
    },
    {
      "cell_type": "code",
      "source": [
        "# Parse the json string\n",
        "\n",
        "parsed_rdd = news_rdd.map(lambda x: json.loads(x))"
      ],
      "metadata": {
        "id": "oiOgaDhT8m3b"
      },
      "execution_count": null,
      "outputs": []
    },
    {
      "cell_type": "code",
      "source": [
        "# Let's view the content of the parsed object\n",
        "\n",
        "selected_object = parsed_rdd.first()\n",
        "print(selected_object.get(\"body\"))"
      ],
      "metadata": {
        "colab": {
          "base_uri": "https://localhost:8080/"
        },
        "id": "0GSEg1CfBvtA",
        "outputId": "542fd293-76de-483a-ff7b-8e6a07747b95"
      },
      "execution_count": null,
      "outputs": [
        {
          "output_type": "stream",
          "name": "stdout",
          "text": [
            "سرمربی ملوان درباره تصاویر وایرالی دیدار با نساجی یک پست جالب منتشر کرد.\n",
            "\n",
            "به گزارش \"ورزش سه\"، مهدی تارتار با خوشحالی عجیب و غریب دقیقه ۹۰+۳ یکی از چهرههای جالب این هفته لیگ برتر را به خود اختصاص داد که موردتوجه هواداران فوتبال قرار گرفت.\n",
            "\n",
            "تارتار حالا با انتشار یک پست اینستاگرامی از تصاویر جشن و خوشحالی خود نوشته که این جادوی طرفداران انزلی است که او را از خود بی خود کرده است.\n",
            "\n",
            "سرمربی ملوان همچنین وعده داده که تیمش در ادامه فصل نیز با تمام توان خواهد جنگید تا رضایت هواداران را به خود جلب کند.\n",
            "\n",
            "نوشته او را در ادامه میخوانید:\n",
            "\n",
            "حالا که به عکسها نگاه میکنم، متحیر میشوم. یادم نمیآید هرگز اینطور شوری گرفته باشم. این جادوی شماست، شما که روی سکو آنچنان حس و انرژی به ما میدهید که لحظه پیروزی برایمان وصفناشدنی باشد. از روی سکوها تا لب خط، از پای تلویزیونها تا در مستطیل سبز؛ ما همدل و یکصدا پیش میرویم. باهم میجنگیم و باهم میخندیم و هرروز تلاش میکنیم تا این خنده را روی صورت شما نگه داریم. این پیروزی برای شماست، شما مردان نیک روی چمن و شما مردمان نیک روی سکو 🩵🤍\n"
          ]
        }
      ]
    },
    {
      "cell_type": "code",
      "source": [
        "! pip install hazm\n",
        "! pip install https://github.com/sobhe/hazm/archive/master.zip --upgrade"
      ],
      "metadata": {
        "colab": {
          "base_uri": "https://localhost:8080/"
        },
        "id": "pJhfZbZyW-LA",
        "outputId": "2b6cc291-5f73-41ab-f07d-978bcc1aa26d"
      },
      "execution_count": null,
      "outputs": [
        {
          "output_type": "stream",
          "name": "stdout",
          "text": [
            "Requirement already satisfied: hazm in /usr/local/lib/python3.10/dist-packages (0.9.4)\n",
            "Requirement already satisfied: fasttext-wheel<0.10.0,>=0.9.2 in /usr/local/lib/python3.10/dist-packages (from hazm) (0.9.2)\n",
            "Requirement already satisfied: flashtext<3.0,>=2.7 in /usr/local/lib/python3.10/dist-packages (from hazm) (2.7)\n",
            "Requirement already satisfied: gensim<5.0.0,>=4.3.1 in /usr/local/lib/python3.10/dist-packages (from hazm) (4.3.2)\n",
            "Requirement already satisfied: nltk<4.0.0,>=3.8.1 in /usr/local/lib/python3.10/dist-packages (from hazm) (3.8.1)\n",
            "Requirement already satisfied: numpy==1.24.3 in /usr/local/lib/python3.10/dist-packages (from hazm) (1.24.3)\n",
            "Requirement already satisfied: python-crfsuite<0.10.0,>=0.9.9 in /usr/local/lib/python3.10/dist-packages (from hazm) (0.9.9)\n",
            "Requirement already satisfied: scikit-learn<2.0.0,>=1.2.2 in /usr/local/lib/python3.10/dist-packages (from hazm) (1.2.2)\n",
            "Requirement already satisfied: pybind11>=2.2 in /usr/local/lib/python3.10/dist-packages (from fasttext-wheel<0.10.0,>=0.9.2->hazm) (2.11.1)\n",
            "Requirement already satisfied: setuptools>=0.7.0 in /usr/local/lib/python3.10/dist-packages (from fasttext-wheel<0.10.0,>=0.9.2->hazm) (67.7.2)\n",
            "Requirement already satisfied: scipy>=1.7.0 in /usr/local/lib/python3.10/dist-packages (from gensim<5.0.0,>=4.3.1->hazm) (1.11.4)\n",
            "Requirement already satisfied: smart-open>=1.8.1 in /usr/local/lib/python3.10/dist-packages (from gensim<5.0.0,>=4.3.1->hazm) (6.4.0)\n",
            "Requirement already satisfied: click in /usr/local/lib/python3.10/dist-packages (from nltk<4.0.0,>=3.8.1->hazm) (8.1.7)\n",
            "Requirement already satisfied: joblib in /usr/local/lib/python3.10/dist-packages (from nltk<4.0.0,>=3.8.1->hazm) (1.3.2)\n",
            "Requirement already satisfied: regex>=2021.8.3 in /usr/local/lib/python3.10/dist-packages (from nltk<4.0.0,>=3.8.1->hazm) (2023.6.3)\n",
            "Requirement already satisfied: tqdm in /usr/local/lib/python3.10/dist-packages (from nltk<4.0.0,>=3.8.1->hazm) (4.66.1)\n",
            "Requirement already satisfied: threadpoolctl>=2.0.0 in /usr/local/lib/python3.10/dist-packages (from scikit-learn<2.0.0,>=1.2.2->hazm) (3.2.0)\n",
            "Collecting https://github.com/sobhe/hazm/archive/master.zip\n",
            "  Using cached https://github.com/sobhe/hazm/archive/master.zip\n",
            "  Installing build dependencies ... \u001b[?25l\u001b[?25hdone\n",
            "  Getting requirements to build wheel ... \u001b[?25l\u001b[?25hdone\n",
            "  Preparing metadata (pyproject.toml) ... \u001b[?25l\u001b[?25hdone\n",
            "Requirement already satisfied: fasttext-wheel<0.10.0,>=0.9.2 in /usr/local/lib/python3.10/dist-packages (from hazm==0.9.4) (0.9.2)\n",
            "Requirement already satisfied: flashtext<3.0,>=2.7 in /usr/local/lib/python3.10/dist-packages (from hazm==0.9.4) (2.7)\n",
            "Requirement already satisfied: gensim<5.0.0,>=4.3.1 in /usr/local/lib/python3.10/dist-packages (from hazm==0.9.4) (4.3.2)\n",
            "Requirement already satisfied: nltk<4.0.0,>=3.8.1 in /usr/local/lib/python3.10/dist-packages (from hazm==0.9.4) (3.8.1)\n",
            "Requirement already satisfied: numpy==1.24.3 in /usr/local/lib/python3.10/dist-packages (from hazm==0.9.4) (1.24.3)\n",
            "Requirement already satisfied: python-crfsuite<0.10.0,>=0.9.9 in /usr/local/lib/python3.10/dist-packages (from hazm==0.9.4) (0.9.9)\n",
            "Requirement already satisfied: scikit-learn<2.0.0,>=1.2.2 in /usr/local/lib/python3.10/dist-packages (from hazm==0.9.4) (1.2.2)\n",
            "Requirement already satisfied: pybind11>=2.2 in /usr/local/lib/python3.10/dist-packages (from fasttext-wheel<0.10.0,>=0.9.2->hazm==0.9.4) (2.11.1)\n",
            "Requirement already satisfied: setuptools>=0.7.0 in /usr/local/lib/python3.10/dist-packages (from fasttext-wheel<0.10.0,>=0.9.2->hazm==0.9.4) (67.7.2)\n",
            "Requirement already satisfied: scipy>=1.7.0 in /usr/local/lib/python3.10/dist-packages (from gensim<5.0.0,>=4.3.1->hazm==0.9.4) (1.11.4)\n",
            "Requirement already satisfied: smart-open>=1.8.1 in /usr/local/lib/python3.10/dist-packages (from gensim<5.0.0,>=4.3.1->hazm==0.9.4) (6.4.0)\n",
            "Requirement already satisfied: click in /usr/local/lib/python3.10/dist-packages (from nltk<4.0.0,>=3.8.1->hazm==0.9.4) (8.1.7)\n",
            "Requirement already satisfied: joblib in /usr/local/lib/python3.10/dist-packages (from nltk<4.0.0,>=3.8.1->hazm==0.9.4) (1.3.2)\n",
            "Requirement already satisfied: regex>=2021.8.3 in /usr/local/lib/python3.10/dist-packages (from nltk<4.0.0,>=3.8.1->hazm==0.9.4) (2023.6.3)\n",
            "Requirement already satisfied: tqdm in /usr/local/lib/python3.10/dist-packages (from nltk<4.0.0,>=3.8.1->hazm==0.9.4) (4.66.1)\n",
            "Requirement already satisfied: threadpoolctl>=2.0.0 in /usr/local/lib/python3.10/dist-packages (from scikit-learn<2.0.0,>=1.2.2->hazm==0.9.4) (3.2.0)\n"
          ]
        }
      ]
    },
    {
      "cell_type": "code",
      "source": [
        "from hazm import *"
      ],
      "metadata": {
        "id": "6NkSEpf7Xqaf"
      },
      "execution_count": null,
      "outputs": []
    },
    {
      "cell_type": "code",
      "source": [
        "normalizer = Normalizer()\n",
        "word_tokenizer = WordTokenizer(replace_numbers=True)\n",
        "sentence_tokenizer = SentenceTokenizer()\n",
        "lemmatizer = Lemmatizer()"
      ],
      "metadata": {
        "id": "vtHI40wmXs95"
      },
      "execution_count": null,
      "outputs": []
    },
    {
      "cell_type": "code",
      "source": [
        "# Remove useless charachters\n",
        "\n",
        "# Loading Stop Words and Punctuation marks\n",
        "stop_words = open(\"/content/persian_stopwords.txt\",'r',encoding=\"utf8\").read().splitlines()\n",
        "print(stop_words[0:5])"
      ],
      "metadata": {
        "colab": {
          "base_uri": "https://localhost:8080/"
        },
        "id": "qUxgclP1GAgl",
        "outputId": "93efbe1f-dfef-4c17-b77d-bb5c2c69adbf"
      },
      "execution_count": null,
      "outputs": [
        {
          "output_type": "stream",
          "name": "stdout",
          "text": [
            "['در', 'و', 'این', 'آن', 'که']\n"
          ]
        }
      ]
    },
    {
      "cell_type": "code",
      "source": [
        "import re # To remove unicodes\n",
        "\n",
        "def persian_only(s):\n",
        "    return \"\".join(re.findall(r\"[\\u0600-\\u06FF]+\", s))"
      ],
      "metadata": {
        "id": "6ZSFCENvOT6B"
      },
      "execution_count": null,
      "outputs": []
    },
    {
      "cell_type": "code",
      "source": [
        "import string # To remove punctuation marks\n",
        "\n",
        "def txt_cleansing(news):\n",
        "    txt = news.get('body')\n",
        "    persian_punc = ['،','*','؛','؟']\n",
        "    tokenized_words = word_tokenizer.tokenize(normalizer.normalize(txt))\n",
        "    tokenized_words = list(set(tokenized_words) - set(string.punctuation) - set(persian_punc))\n",
        "    ch_removed = list ( set(persian_only(str(word)) for word in tokenized_words) )\n",
        "    ch_removed = list(filter(None, ch_removed))\n",
        "    news['body'] = ch_removed\n",
        "    return news"
      ],
      "metadata": {
        "id": "1pQ9b9vvMQB3"
      },
      "execution_count": null,
      "outputs": []
    },
    {
      "cell_type": "code",
      "source": [
        "def stop_remove_lemmatizer(news):\n",
        "    tokenized_words = news.get('body')\n",
        "    tokenized_words = list(set(tokenized_words) - set(stop_words))\n",
        "    lemmatized = [persian_only(lemmatizer.lemmatize(word)) for word in\n",
        "                  tokenized_words if \"#\" not in lemmatizer.lemmatize(word)]\n",
        "    lemmatized = list(set(lemmatized) - set(stop_words))\n",
        "    news['body'] = lemmatized\n",
        "    return news"
      ],
      "metadata": {
        "id": "OzIbvU_lMSKt"
      },
      "execution_count": null,
      "outputs": []
    },
    {
      "cell_type": "code",
      "source": [
        "clean_news_rdd = parsed_rdd.map(lambda x: txt_cleansing(x))"
      ],
      "metadata": {
        "id": "-YqLjW72Zuyx"
      },
      "execution_count": null,
      "outputs": []
    },
    {
      "cell_type": "code",
      "source": [
        "print(clean_news_rdd.first())"
      ],
      "metadata": {
        "colab": {
          "base_uri": "https://localhost:8080/"
        },
        "id": "Ff1niA6bh0fJ",
        "outputId": "152fbfbd-011c-4862-9dbf-69d40514e8c9"
      },
      "execution_count": null,
      "outputs": [
        {
          "output_type": "stream",
          "name": "stdout",
          "text": [
            "{'body': ['داد', 'خنده', 'عکسها', 'میدهید', 'همدل', 'نگاه', 'هرروز', 'موردتوجه', 'برای', 'تلاش', 'داریم', 'وعده', 'تلویزیونها', 'گرفتهباشم', 'فصل', 'به', 'توان', 'میخوانید', 'حالا', 'برایمان', 'همچنین', 'سکو', 'است', 'تارتار', 'هرگز', 'میکنم', 'لیگ', 'جشن', 'در', 'تیمش', 'روی', 'لب', 'یک', 'دیدار', 'کرد', 'او', 'تا', 'ورزش', 'خوشحالی', 'میرویم', 'عجیب', 'انزلی', 'را', 'لحظه', 'جالب', 'منتشر', 'قرار', 'پست', 'شماست', 'هفته', 'وصفناشدنی', 'میخندیم', 'که', 'یکی', 'برتر', 'کند', 'طرفداران', 'باهم', 'ملوان', 'جلب', 'شوری', 'سرمربی', 'از', 'و', 'میجنگیم', 'تصاویر', 'انتشار', 'رضایت', 'خواهدجنگید', 'پیروزی', 'سکوها', 'میشوم', 'میکنیم', 'اختصاص', 'ما', 'باشد', 'صورت', 'یکصدا', 'کردهاست', 'پیش', 'خط', 'متحیر', 'یادم', 'ادامه', 'مهدی', 'جادوی', 'داده', 'سه', 'نیز', 'نمیآید', 'غریب', 'با', 'هواداران', 'بیخود', 'وایرالی', 'حس', 'نوشته', 'مردان', 'چمن', 'تمام', 'اینستاگرامی', 'آنچنان', 'انرژی', 'چهرههای', 'اینطور', 'نساجی', 'مستطیل', 'پای', 'دقیقه', 'گزارش', 'خود', 'سبز', 'نگه', 'این', 'درباره', 'فوتبال', 'نیک', 'شما', 'مردمان', 'گرفت'], 'image_title_url': 'https://news-cdn.varzesh3.com/pictures/2023/08/09/A/a5l2b23f.jpg', 'language': 'fa', 'source': 'ورزش سه', 'title': 'نوشته خاص تارتار برای لحظه جنجالی (عکس)', 'date_published': 1696909606, 'uid': '68feae4bbbedc2d54adbb2369', 'url': 'https://www.varzesh3.com/news/1971626/%D9%86%D9%88%D8%B4%D8%AA%D9%87-%D8%AE%D8%A7%D8%B5-%D8%AA%D8%A7%D8%B1%D8%AA%D8%A7%D8%B1-%D8%A8%D8%B1%D8%A7%DB%8C-%D9%84%D8%AD%D8%B8%D9%87-%D8%AC%D9%86%D8%AC%D8%A7%D9%84%DB%8C-%D8%B9%DA%A9%D8%B3', 'crawler_timestamp': 1696910655, 'ingestor_timestamp': 1696925866, 'summary': 'سرمربی ملوان درباره تصاویر وایرالی دیدار با نساجی یک پست جالب منتشر کرد.', 'hostname': 'varzesh3.com', 'parser_categories': [], 'keywords': ['سرمربی ملوان', 'لیگ برتر', 'مستطیل سبز', 'انزلی'], 'parser_keyword': ['ملوان', 'نساجی مازندران', 'مهدی تارتار', 'لیگ برتر ایران', 'فوتبال'], 'author': '', 'processed_body': 'به گزارش “ورزش سه”، مهدی تارتار با خوشحالی عجیب و غریب دقیقه ۹۰+۳ یکی از چهره\\u200cهای جالب این هفته لیگ برتر را به خود اختصاص داد که موردتوجه هواداران فوتبال قرار گرفت.\\n\\nتارتار حالا با انتشار یک پست اینستاگرامی از تصاویر جشن و خوشحالی خود نوشته که این جادوی طرفداران انزلی است که او را از خود بی خود کرده است.\\n\\nسرمربی ملوان همچنین وعده داده که تیمش در ادامه فصل نیز با تمام توان خواهد جنگید تا رضایت هواداران را به خود جلب کند.\\n\\nنوشته او را در ادامه می\\u200cخوانید:\\n\\nحالا که به عکس\\u200cها نگاه می\\u200cکنم، متحیر می\\u200cشوم. یادم نمی\\u200cآید هرگز اینطور شوری گرفته باشم. این جادوی شماست، شما که روی سکو آنچنان حس و انرژی به ما می\\u200cدهید که لحظه پیروزی برایمان وصف\\u200cناشدنی باشد. از روی سکوها تا لب خط، از پای تلویزیون\\u200cها تا در مستطیل سبز؛ ما همدل و یکصدا پیش می\\u200cرویم. باهم می\\u200cجنگیم و باهم می\\u200cخندیم و هرروز تلاش می\\u200cکنیم تا این خنده را روی صورت شما نگه داریم. این پیروزی برای شماست، شما مردان نیک روی چمن و شما مردمان نیک روی سکو \\U0001fa75🤍', 'categories': ['sports'], 'ner_tags': [{'type': 'PER', 'entity': 'تارتار'}, {'type': 'POST', 'entity': 'سرمربی ملوان'}, {'type': 'ORG', 'entity': 'وایرالی'}, {'type': 'ORG', 'entity': 'ورزش سه'}, {'type': 'PER', 'entity': 'مهدی تارتار'}, {'type': 'EVE', 'entity': 'لیگ برتر'}, {'type': 'PER', 'entity': 'تارتار'}, {'type': 'GPE', 'entity': 'انزلی'}, {'type': 'POST', 'entity': 'سرمربی ملوان'}]}\n"
          ]
        }
      ]
    },
    {
      "cell_type": "code",
      "source": [
        "clean_news_rdd.count()"
      ],
      "metadata": {
        "colab": {
          "base_uri": "https://localhost:8080/"
        },
        "id": "56aSBTuOeHdd",
        "outputId": "5a17ef9e-6c8c-4778-9212-349e079d7dc8"
      },
      "execution_count": null,
      "outputs": [
        {
          "output_type": "execute_result",
          "data": {
            "text/plain": [
              "627164"
            ]
          },
          "metadata": {},
          "execution_count": 16
        }
      ]
    },
    {
      "cell_type": "code",
      "source": [
        "processed_news_rdd = clean_news_rdd.map(lambda x: stop_remove_lemmatizer(x))"
      ],
      "metadata": {
        "id": "A_mHwrxuOdFw"
      },
      "execution_count": null,
      "outputs": []
    },
    {
      "cell_type": "code",
      "source": [
        "print(processed_news_rdd.first())"
      ],
      "metadata": {
        "colab": {
          "base_uri": "https://localhost:8080/"
        },
        "outputId": "7b34e9c1-1c28-4745-d6df-7045ccf13140",
        "id": "PCFcXXV5OdFy"
      },
      "execution_count": null,
      "outputs": [
        {
          "output_type": "stream",
          "name": "stdout",
          "text": [
            "{'body': ['جشن', 'ملوان', 'بیخود', 'شوری', 'وایرالی', 'خنده', 'حس', 'سرمربی', 'تیمش', 'نوشته', 'همدل', 'میجنگیم', 'چمن', 'تصاویر', 'انتشار', 'اینستاگرامی', 'رضایت', 'خواهدجنگید', 'دیدار', 'آنچنان', 'طرفدار', 'پیروزی', 'انرژی', 'نگاه', 'چهره', 'عکس', 'هرروز', 'موردتوجه', 'ورزش', 'اینطور', 'اختصاص', 'غریب', 'تلاش', 'مستطیل', 'پای', 'وعده', 'عجیب', 'یکصدا', 'دقیقه', 'انزلی', 'یاد', 'هوادار', 'گرفتهباشم', 'لحظه', 'جالب', 'منتشر', 'خط', 'گزارش', 'جلب', 'فصل', 'پست', 'متحیر', 'توان', 'سبز', 'لیگ', 'جادو', 'نگه', 'نساج', 'میخوانید', 'هفته', 'ادامه', 'وصفناشدنی', 'میخندیم', 'مهدی', 'فوتبال', 'برایمان', 'سکو', 'تلویزیون', 'نیک', 'تارتار', 'برتر', 'داده', 'نمیآید', 'مرد'], 'image_title_url': 'https://news-cdn.varzesh3.com/pictures/2023/08/09/A/a5l2b23f.jpg', 'language': 'fa', 'source': 'ورزش سه', 'title': 'نوشته خاص تارتار برای لحظه جنجالی (عکس)', 'date_published': 1696909606, 'uid': '68feae4bbbedc2d54adbb2369', 'url': 'https://www.varzesh3.com/news/1971626/%D9%86%D9%88%D8%B4%D8%AA%D9%87-%D8%AE%D8%A7%D8%B5-%D8%AA%D8%A7%D8%B1%D8%AA%D8%A7%D8%B1-%D8%A8%D8%B1%D8%A7%DB%8C-%D9%84%D8%AD%D8%B8%D9%87-%D8%AC%D9%86%D8%AC%D8%A7%D9%84%DB%8C-%D8%B9%DA%A9%D8%B3', 'crawler_timestamp': 1696910655, 'ingestor_timestamp': 1696925866, 'summary': 'سرمربی ملوان درباره تصاویر وایرالی دیدار با نساجی یک پست جالب منتشر کرد.', 'hostname': 'varzesh3.com', 'parser_categories': [], 'keywords': ['سرمربی ملوان', 'لیگ برتر', 'مستطیل سبز', 'انزلی'], 'parser_keyword': ['ملوان', 'نساجی مازندران', 'مهدی تارتار', 'لیگ برتر ایران', 'فوتبال'], 'author': '', 'processed_body': 'به گزارش “ورزش سه”، مهدی تارتار با خوشحالی عجیب و غریب دقیقه ۹۰+۳ یکی از چهره\\u200cهای جالب این هفته لیگ برتر را به خود اختصاص داد که موردتوجه هواداران فوتبال قرار گرفت.\\n\\nتارتار حالا با انتشار یک پست اینستاگرامی از تصاویر جشن و خوشحالی خود نوشته که این جادوی طرفداران انزلی است که او را از خود بی خود کرده است.\\n\\nسرمربی ملوان همچنین وعده داده که تیمش در ادامه فصل نیز با تمام توان خواهد جنگید تا رضایت هواداران را به خود جلب کند.\\n\\nنوشته او را در ادامه می\\u200cخوانید:\\n\\nحالا که به عکس\\u200cها نگاه می\\u200cکنم، متحیر می\\u200cشوم. یادم نمی\\u200cآید هرگز اینطور شوری گرفته باشم. این جادوی شماست، شما که روی سکو آنچنان حس و انرژی به ما می\\u200cدهید که لحظه پیروزی برایمان وصف\\u200cناشدنی باشد. از روی سکوها تا لب خط، از پای تلویزیون\\u200cها تا در مستطیل سبز؛ ما همدل و یکصدا پیش می\\u200cرویم. باهم می\\u200cجنگیم و باهم می\\u200cخندیم و هرروز تلاش می\\u200cکنیم تا این خنده را روی صورت شما نگه داریم. این پیروزی برای شماست، شما مردان نیک روی چمن و شما مردمان نیک روی سکو \\U0001fa75🤍', 'categories': ['sports'], 'ner_tags': [{'type': 'PER', 'entity': 'تارتار'}, {'type': 'POST', 'entity': 'سرمربی ملوان'}, {'type': 'ORG', 'entity': 'وایرالی'}, {'type': 'ORG', 'entity': 'ورزش سه'}, {'type': 'PER', 'entity': 'مهدی تارتار'}, {'type': 'EVE', 'entity': 'لیگ برتر'}, {'type': 'PER', 'entity': 'تارتار'}, {'type': 'GPE', 'entity': 'انزلی'}, {'type': 'POST', 'entity': 'سرمربی ملوان'}]}\n"
          ]
        }
      ]
    },
    {
      "cell_type": "code",
      "source": [
        "processed_news_rdd.count()"
      ],
      "metadata": {
        "colab": {
          "base_uri": "https://localhost:8080/"
        },
        "outputId": "ce268fff-65c5-4d89-b442-0ef21edb5eef",
        "id": "E-0JJp_TOdFz"
      },
      "execution_count": null,
      "outputs": [
        {
          "output_type": "execute_result",
          "data": {
            "text/plain": [
              "627164"
            ]
          },
          "metadata": {},
          "execution_count": 19
        }
      ]
    },
    {
      "cell_type": "markdown",
      "metadata": {
        "id": "eb7810f8"
      },
      "source": [
        "***\n",
        "\n",
        "# $\\text{Section 3: Exploration}$"
      ]
    },
    {
      "cell_type": "markdown",
      "source": [
        "---\n",
        "## $\\text{What are the titles and urls of 5 longest news?}$"
      ],
      "metadata": {
        "id": "EZSdyhDqTQS7"
      }
    },
    {
      "cell_type": "code",
      "source": [
        "def word_count(news):\n",
        "    words_num = len(news.get('body'))\n",
        "    new_dict = {'title':news.get('title') ,'url':news.get('url')}\n",
        "    return (words_num,new_dict)"
      ],
      "metadata": {
        "id": "OwpBiK_Vt9Qy"
      },
      "execution_count": null,
      "outputs": []
    },
    {
      "cell_type": "code",
      "source": [
        "news_wordcount_rdd = clean_news_rdd.map(lambda x: word_count(x))"
      ],
      "metadata": {
        "id": "N4rK0-9lTWx2"
      },
      "execution_count": null,
      "outputs": []
    },
    {
      "cell_type": "code",
      "source": [
        "print(news_wordcount_rdd.first())"
      ],
      "metadata": {
        "colab": {
          "base_uri": "https://localhost:8080/"
        },
        "id": "RgPNnk40DXJE",
        "outputId": "6572c368-cfbe-4d50-931e-2ddfe6efe814"
      },
      "execution_count": null,
      "outputs": [
        {
          "output_type": "stream",
          "name": "stdout",
          "text": [
            "(120, {'title': 'نوشته خاص تارتار برای لحظه جنجالی (عکس)', 'url': 'https://www.varzesh3.com/news/1971626/%D9%86%D9%88%D8%B4%D8%AA%D9%87-%D8%AE%D8%A7%D8%B5-%D8%AA%D8%A7%D8%B1%D8%AA%D8%A7%D8%B1-%D8%A8%D8%B1%D8%A7%DB%8C-%D9%84%D8%AD%D8%B8%D9%87-%D8%AC%D9%86%D8%AC%D8%A7%D9%84%DB%8C-%D8%B9%DA%A9%D8%B3'})\n"
          ]
        }
      ]
    },
    {
      "cell_type": "code",
      "source": [
        "sorted_rdd = news_wordcount_rdd.sortBy(lambda x: x[0])"
      ],
      "metadata": {
        "id": "QqxxDmsmDNci"
      },
      "execution_count": null,
      "outputs": []
    },
    {
      "cell_type": "code",
      "source": [
        "sorted_rdd.takeOrdered(5, key=lambda x: -x[0])"
      ],
      "metadata": {
        "colab": {
          "base_uri": "https://localhost:8080/"
        },
        "id": "1a8Pdk6Ifm7P",
        "outputId": "b7e1f571-8b12-4d00-cc08-beb352d2d4cd"
      },
      "execution_count": null,
      "outputs": [
        {
          "output_type": "execute_result",
          "data": {
            "text/plain": [
              "[(2359,\n",
              "  {'title': 'هرچه باید درباره نهم ربیع\\u200cالاول بدانید+منابع دقیق و معتبر',\n",
              "   'url': 'https://www.borna.news/بخش-%D9%82%D8%B1%D8%A2%D9%86-%D9%85%D8%B9%D8%A7%D8%B1%D9%81-53/920622-%D9%87%D8%B1%DA%86%D9%87-%D8%A8%D8%A7%DB%8C%D8%AF-%D8%AF%D8%B1%D8%A8%D8%A7%D8%B1%D9%87-%D9%86%D9%87%D9%85-%D8%B1%D8%A8%DB%8C%D8%B9-%D8%A7%D9%84%D8%A7%D9%88%D9%84-%D8%A8%D8%AF%D8%A7%D9%86%DB%8C%D8%AF-%D9%85%D9%86%D8%A7%D8%A8%D8%B9-%D8%AF%D9%82%DB%8C%D9%82-%D9%85%D8%B9%D8%AA%D8%A8%D8%B1'}),\n",
              " (2185,\n",
              "  {'title': 'از امنیت جانوران درنده تا آبادانی کرات دیگر در عصر امام زمان(عج)',\n",
              "   'url': 'https://www.khabaronline.ir/news/1815236/از-امنیت-جانوران-درنده-تا-آبادانی-کرات-دیگر-در-عصر-امام-زمان-عج'}),\n",
              " (2160,\n",
              "  {'title': '\\n         ',\n",
              "   'url': 'http://www.mazandnume.com/fullcontent/81555/%D8%A7%D8%B2-%D9%85%DB%8C%D8%A7%D9%86%D9%90-%D8%A8%D8%A7%D9%86%DA%AF-%DA%AF%D8%B1%D8%AF%D8%B4%E2%80%8C%D9%87%D8%A7%DB%8C-%DA%86%D8%B1%D8%AE/'}),\n",
              " (2160,\n",
              "  {'title': '\\n         ',\n",
              "   'url': 'http://mazandnume.com/fullcontent/81555/%D8%A7%D8%B2-%D9%85%DB%8C%D8%A7%D9%86%D9%90-%D8%A8%D8%A7%D9%86%DA%AF-%DA%AF%D8%B1%D8%AF%D8%B4%E2%80%8C%D9%87%D8%A7%DB%8C-%DA%86%D8%B1%D8%AE/'}),\n",
              " (2145,\n",
              "  {'title': 'خبرگزاری فارس - آیا دولت سیزدهم گفتمان و راهبرد فرهنگی دارد؟',\n",
              "   'url': 'https://www.farsnews.ir/news/14020625000557/آیا-دولت-سیزدهم-گفتمان-و-راهبرد-فرهنگی-دارد'})]"
            ]
          },
          "metadata": {},
          "execution_count": 44
        }
      ]
    },
    {
      "cell_type": "markdown",
      "source": [
        "---\n",
        "## $\\text{What are the 20 most frequent words? (Plot the distribution of these words)}$"
      ],
      "metadata": {
        "id": "OsaQHPiQlik0"
      }
    },
    {
      "cell_type": "code",
      "source": [
        "def words_KeyValue(tokenized_news):\n",
        "    words = tokenized_news.get('body')\n",
        "    KeyValue = [(word,1) for word in words]\n",
        "    return KeyValue"
      ],
      "metadata": {
        "id": "-dxxcDEUnyRj"
      },
      "execution_count": null,
      "outputs": []
    },
    {
      "cell_type": "code",
      "source": [
        "words_KeyValue(processed_news_rdd.first())"
      ],
      "metadata": {
        "colab": {
          "base_uri": "https://localhost:8080/"
        },
        "id": "t0VJJXI6lqmF",
        "outputId": "bb3d1cb9-c55d-40e7-8eac-640dba0e0eca"
      },
      "execution_count": null,
      "outputs": [
        {
          "output_type": "execute_result",
          "data": {
            "text/plain": [
              "[('جشن', 1),\n",
              " ('ملوان', 1),\n",
              " ('بیخود', 1),\n",
              " ('شوری', 1),\n",
              " ('وایرالی', 1),\n",
              " ('خنده', 1),\n",
              " ('حس', 1),\n",
              " ('سرمربی', 1),\n",
              " ('تیمش', 1),\n",
              " ('نوشته', 1),\n",
              " ('همدل', 1),\n",
              " ('میجنگیم', 1),\n",
              " ('چمن', 1),\n",
              " ('تصاویر', 1),\n",
              " ('انتشار', 1),\n",
              " ('اینستاگرامی', 1),\n",
              " ('رضایت', 1),\n",
              " ('خواهدجنگید', 1),\n",
              " ('دیدار', 1),\n",
              " ('آنچنان', 1),\n",
              " ('طرفدار', 1),\n",
              " ('پیروزی', 1),\n",
              " ('انرژی', 1),\n",
              " ('نگاه', 1),\n",
              " ('چهره', 1),\n",
              " ('عکس', 1),\n",
              " ('هرروز', 1),\n",
              " ('موردتوجه', 1),\n",
              " ('ورزش', 1),\n",
              " ('اینطور', 1),\n",
              " ('اختصاص', 1),\n",
              " ('غریب', 1),\n",
              " ('تلاش', 1),\n",
              " ('مستطیل', 1),\n",
              " ('پای', 1),\n",
              " ('وعده', 1),\n",
              " ('عجیب', 1),\n",
              " ('یکصدا', 1),\n",
              " ('دقیقه', 1),\n",
              " ('انزلی', 1),\n",
              " ('یاد', 1),\n",
              " ('هوادار', 1),\n",
              " ('گرفتهباشم', 1),\n",
              " ('لحظه', 1),\n",
              " ('جالب', 1),\n",
              " ('منتشر', 1),\n",
              " ('خط', 1),\n",
              " ('گزارش', 1),\n",
              " ('جلب', 1),\n",
              " ('فصل', 1),\n",
              " ('پست', 1),\n",
              " ('متحیر', 1),\n",
              " ('توان', 1),\n",
              " ('سبز', 1),\n",
              " ('لیگ', 1),\n",
              " ('جادو', 1),\n",
              " ('نگه', 1),\n",
              " ('نساج', 1),\n",
              " ('میخوانید', 1),\n",
              " ('هفته', 1),\n",
              " ('ادامه', 1),\n",
              " ('وصفناشدنی', 1),\n",
              " ('میخندیم', 1),\n",
              " ('مهدی', 1),\n",
              " ('فوتبال', 1),\n",
              " ('برایمان', 1),\n",
              " ('سکو', 1),\n",
              " ('تلویزیون', 1),\n",
              " ('نیک', 1),\n",
              " ('تارتار', 1),\n",
              " ('برتر', 1),\n",
              " ('داده', 1),\n",
              " ('نمیآید', 1),\n",
              " ('مرد', 1)]"
            ]
          },
          "metadata": {},
          "execution_count": 21
        }
      ]
    },
    {
      "cell_type": "code",
      "source": [
        "KeyValue_rdd = processed_news_rdd.flatMap(lambda x: words_KeyValue(x))\n",
        "KeyValue_rdd.count()"
      ],
      "metadata": {
        "colab": {
          "base_uri": "https://localhost:8080/"
        },
        "id": "4rEsfjEFbrk6",
        "outputId": "05ccd781-2172-48b6-9db8-bc5657ba0b2d"
      },
      "execution_count": null,
      "outputs": [
        {
          "output_type": "execute_result",
          "data": {
            "text/plain": [
              "72017789"
            ]
          },
          "metadata": {},
          "execution_count": 23
        }
      ]
    },
    {
      "cell_type": "code",
      "source": [
        "DistinctWordsCount = KeyValue_rdd.reduceByKey(lambda a,b: a+b)\n",
        "DistinctWordsCount.count()"
      ],
      "metadata": {
        "id": "VHJRhK1ni81k",
        "colab": {
          "base_uri": "https://localhost:8080/"
        },
        "outputId": "ce583109-9413-49bb-fe3a-2ad282c17ebc"
      },
      "execution_count": null,
      "outputs": [
        {
          "output_type": "execute_result",
          "data": {
            "text/plain": [
              "373475"
            ]
          },
          "metadata": {},
          "execution_count": 24
        }
      ]
    },
    {
      "cell_type": "code",
      "source": [
        "sorted_wordcount = DistinctWordsCount.map(lambda a: (a[1], a[0])).sortByKey()\n",
        "sorted_wordcount.count()"
      ],
      "metadata": {
        "id": "gZvl-WeqD39c",
        "colab": {
          "base_uri": "https://localhost:8080/"
        },
        "outputId": "8749e0d6-4405-4e94-831a-34da51455e21"
      },
      "execution_count": null,
      "outputs": [
        {
          "output_type": "execute_result",
          "data": {
            "text/plain": [
              "373475"
            ]
          },
          "metadata": {},
          "execution_count": 25
        }
      ]
    },
    {
      "cell_type": "code",
      "source": [
        "frequent_words = sorted_wordcount.top(20)"
      ],
      "metadata": {
        "id": "LtS6bVk2FHdL"
      },
      "execution_count": null,
      "outputs": []
    },
    {
      "cell_type": "code",
      "source": [
        "frequent_words"
      ],
      "metadata": {
        "colab": {
          "base_uri": "https://localhost:8080/"
        },
        "id": "reRI05Vt6y9x",
        "outputId": "75eb02f4-1400-4796-b85d-4a1dcb2a69d7"
      },
      "execution_count": null,
      "outputs": [
        {
          "output_type": "execute_result",
          "data": {
            "text/plain": [
              "[(383253, 'گزارش'),\n",
              " (258258, 'کشور'),\n",
              " (244481, 'سال'),\n",
              " (227745, 'ادامه'),\n",
              " (195863, 'ایران'),\n",
              " (170320, 'اعلام'),\n",
              " (169783, 'کار'),\n",
              " (167660, 'انجام'),\n",
              " (166741, 'عنوان'),\n",
              " (160890, 'حضور'),\n",
              " (159400, 'گذشته'),\n",
              " (155801, 'پایان'),\n",
              " (153065, 'اشاره'),\n",
              " (151938, 'مردم'),\n",
              " (149738, 'خبر'),\n",
              " (146012, 'بیان'),\n",
              " (144317, 'خبرگزاری'),\n",
              " (143018, 'استان'),\n",
              " (141271, 'توجه'),\n",
              " (138383, 'اظهار')]"
            ]
          },
          "metadata": {},
          "execution_count": 27
        }
      ]
    },
    {
      "cell_type": "code",
      "source": [
        "!pip install python-bidi"
      ],
      "metadata": {
        "id": "ElNJOHSoONMk",
        "colab": {
          "base_uri": "https://localhost:8080/"
        },
        "outputId": "61052d7b-d669-432a-c3e6-b288721818fd"
      },
      "execution_count": null,
      "outputs": [
        {
          "output_type": "stream",
          "name": "stdout",
          "text": [
            "Collecting python-bidi\n",
            "  Downloading python_bidi-0.4.2-py2.py3-none-any.whl (30 kB)\n",
            "Requirement already satisfied: six in /usr/local/lib/python3.10/dist-packages (from python-bidi) (1.16.0)\n",
            "Installing collected packages: python-bidi\n",
            "Successfully installed python-bidi-0.4.2\n"
          ]
        }
      ]
    },
    {
      "cell_type": "code",
      "source": [
        "!pip install arabic-reshaper"
      ],
      "metadata": {
        "id": "2Ks3ugnmOZTr",
        "colab": {
          "base_uri": "https://localhost:8080/"
        },
        "outputId": "263f0b5e-b315-4e04-d6a8-bbdc06c27523"
      },
      "execution_count": null,
      "outputs": [
        {
          "output_type": "stream",
          "name": "stdout",
          "text": [
            "Collecting arabic-reshaper\n",
            "  Downloading arabic_reshaper-3.0.0-py3-none-any.whl (20 kB)\n",
            "Installing collected packages: arabic-reshaper\n",
            "Successfully installed arabic-reshaper-3.0.0\n"
          ]
        }
      ]
    },
    {
      "cell_type": "code",
      "source": [
        "import matplotlib.pyplot as plt\n",
        "from bidi.algorithm import get_display\n",
        "from arabic_reshaper import reshape\n",
        "\n",
        "f, ax = plt.subplots(figsize=(14,5))\n",
        "words = [get_display(reshape(label[1])) for label in frequent_words]\n",
        "count = [label[0] for label in frequent_words]\n",
        "plt.bar(words,count,color=\"#008080\")\n",
        "plt.title(\"Distribution of frequent words\")\n",
        "plt.grid()"
      ],
      "metadata": {
        "colab": {
          "base_uri": "https://localhost:8080/",
          "height": 381
        },
        "id": "Pg_svqoENR9j",
        "outputId": "fe8a4e96-3ff2-4785-e168-2c2b121ee36d"
      },
      "execution_count": null,
      "outputs": [
        {
          "output_type": "display_data",
          "data": {
            "text/plain": [
              "<Figure size 1400x500 with 1 Axes>"
            ],
            "image/png": "[encoded data removed]"
          },
          "metadata": {}
        }
      ]
    },
    {
      "cell_type": "markdown",
      "source": [
        "---\n",
        "## $\\text{Find the } \\textit{word clouds } \\text{of the news.}$"
      ],
      "metadata": {
        "id": "OKJ5LG2KHnCB"
      }
    },
    {
      "cell_type": "code",
      "source": [
        "!pip install wordcloud-fa"
      ],
      "metadata": {
        "id": "IuiteW8xT2LB"
      },
      "execution_count": null,
      "outputs": []
    },
    {
      "cell_type": "code",
      "source": [
        "from wordcloud_fa import WordCloudFa\n",
        "import numpy as np"
      ],
      "metadata": {
        "id": "NeCJLNcoT9RR"
      },
      "execution_count": null,
      "outputs": []
    },
    {
      "cell_type": "code",
      "source": [
        "def keywords_KeyValue(news):\n",
        "    keywords = news.get('keywords')\n",
        "    if keywords != None:\n",
        "        KeyValue = [(key,1) for key in keywords]\n",
        "    else:\n",
        "        KeyValue = [('empty',0)]\n",
        "    return KeyValue"
      ],
      "metadata": {
        "id": "Yeoe_FgKaI1R"
      },
      "execution_count": null,
      "outputs": []
    },
    {
      "cell_type": "code",
      "source": [
        "keywords_rdd = parsed_rdd.flatMap(lambda x: keywords_KeyValue(x))\n",
        "keywords_rdd.count()"
      ],
      "metadata": {
        "colab": {
          "base_uri": "https://localhost:8080/"
        },
        "outputId": "008ad654-a5a7-4e39-c010-80e13ef1b457",
        "id": "m9VsvOtVbc9A"
      },
      "execution_count": null,
      "outputs": [
        {
          "output_type": "execute_result",
          "data": {
            "text/plain": [
              "2739048"
            ]
          },
          "metadata": {},
          "execution_count": 158
        }
      ]
    },
    {
      "cell_type": "code",
      "source": [
        "keywords_count = keywords_rdd.reduceByKey(lambda a,b: a+b)\n",
        "keywords_count.count()"
      ],
      "metadata": {
        "colab": {
          "base_uri": "https://localhost:8080/"
        },
        "outputId": "816de387-97f9-442a-b8c1-efc4ce303976",
        "id": "Q2_WnTq6bc9P"
      },
      "execution_count": null,
      "outputs": [
        {
          "output_type": "execute_result",
          "data": {
            "text/plain": [
              "521181"
            ]
          },
          "metadata": {},
          "execution_count": 159
        }
      ]
    },
    {
      "cell_type": "code",
      "source": [
        "sorted_keywords = keywords_count.map(lambda a: (2**np.log10(a[1]), a[0])).sortByKey()\n",
        "sorted_keywords.count()"
      ],
      "metadata": {
        "colab": {
          "base_uri": "https://localhost:8080/"
        },
        "outputId": "8e61dd74-b82f-4d1c-fb58-9414f2e1c4eb",
        "id": "7v1jGCT0bc9P"
      },
      "execution_count": null,
      "outputs": [
        {
          "output_type": "execute_result",
          "data": {
            "text/plain": [
              "521181"
            ]
          },
          "metadata": {},
          "execution_count": 160
        }
      ]
    },
    {
      "cell_type": "code",
      "source": [
        "max_score = sorted_keywords.top(1)[0][0]\n",
        "max_score"
      ],
      "metadata": {
        "colab": {
          "base_uri": "https://localhost:8080/"
        },
        "id": "SuGK1WcEwTij",
        "outputId": "52aafe2c-c5b7-42d9-b6e9-9af9bc044965"
      },
      "execution_count": null,
      "outputs": [
        {
          "output_type": "execute_result",
          "data": {
            "text/plain": [
              "19.812077205362854"
            ]
          },
          "metadata": {},
          "execution_count": 177
        }
      ]
    },
    {
      "cell_type": "code",
      "source": [
        "normalized_sorted_rdd = sorted_keywords.map(lambda a: (a[0]/max_score,a[1]) )\n",
        "normalized_sorted_rdd.count()"
      ],
      "metadata": {
        "colab": {
          "base_uri": "https://localhost:8080/"
        },
        "id": "tOC9iulmvYNZ",
        "outputId": "60d096db-36f3-49df-d331-b8c1b2211f51"
      },
      "execution_count": null,
      "outputs": [
        {
          "output_type": "execute_result",
          "data": {
            "text/plain": [
              "521181"
            ]
          },
          "metadata": {},
          "execution_count": 178
        }
      ]
    },
    {
      "cell_type": "code",
      "source": [
        "normalized_sorted_rdd.top(20)"
      ],
      "metadata": {
        "colab": {
          "base_uri": "https://localhost:8080/"
        },
        "id": "uHy8gJMEW5Vq",
        "outputId": "235344b0-8e58-4cb4-f5f4-11dcd3965c86"
      },
      "execution_count": null,
      "outputs": [
        {
          "output_type": "execute_result",
          "data": {
            "text/plain": [
              "[(1.0, 'رژیم صهیونیستی'),\n",
              " (0.9153835361235024, 'اسرائیل'),\n",
              " (0.8212246921831099, 'جمهوری اسلامی ایران'),\n",
              " (0.7451676515885112, 'غزه'),\n",
              " (0.7394615313215953, 'لیگ قهرمانان آسیا'),\n",
              " (0.7363438588848646, 'تیم ملی'),\n",
              " (0.7239635116902534, 'آموزش و پرورش'),\n",
              " (0.6955555918790012, 'جمهوری اسلامی'),\n",
              " (0.6675887614508967, 'فلسطین'),\n",
              " (0.6580118424770381, 'ایالات متحده'),\n",
              " (0.655299914935207, 'حماس'),\n",
              " (0.6533581120125306, 'اسلام'),\n",
              " (0.6400008319358191, 'طوفان الاقصی'),\n",
              " (0.6399173808248128, 'استقلال'),\n",
              " (0.6394579473932916, 'رئیس جمهور'),\n",
              " (0.6250389114260585, 'سیستان و بلوچستان'),\n",
              " (0.6229149527751284, 'بانک مرکزی'),\n",
              " (0.6116172477928972, 'سازمان ملل'),\n",
              " (0.5958543790760519, 'لایحه برنامه هفتم توسعه'),\n",
              " (0.5955093942849485, 'مجلس شورای اسلامی')]"
            ]
          },
          "metadata": {},
          "execution_count": 180
        }
      ]
    },
    {
      "cell_type": "code",
      "source": [
        "frequent_topics = normalized_sorted_rdd.top(20)\n",
        "\n",
        "scores = [x[0] for x in frequent_topics]\n",
        "topics = [x[1] for x in frequent_topics]"
      ],
      "metadata": {
        "id": "4XEAZb_pkRLU"
      },
      "execution_count": null,
      "outputs": []
    },
    {
      "cell_type": "code",
      "source": [
        "wc = WordCloudFa(no_reshape=True,background_color=\"black\",width=1200, height=800)\n",
        "word_cloud = wc.generate_from_frequencies(dict(zip(topics, scores)))\n",
        "\n",
        "plt.figure()\n",
        "plt.imshow(word_cloud)\n",
        "plt.axis(\"off\")\n",
        "plt.show()"
      ],
      "metadata": {
        "colab": {
          "base_uri": "https://localhost:8080/",
          "height": 367
        },
        "id": "4VEtcQ7JTtXp",
        "outputId": "1ffcb541-21ca-4e51-c814-1c55fdf34f96"
      },
      "execution_count": null,
      "outputs": [
        {
          "output_type": "display_data",
          "data": {
            "text/plain": [
              "<Figure size 640x480 with 1 Axes>"
            ],
            "image/png": "[encoded data removed]"
          },
          "metadata": {}
        }
      ]
    },
    {
      "cell_type": "markdown",
      "source": [
        "---\n",
        "## $\\text{Plot a timeline which shows total count of news per each day.}$"
      ],
      "metadata": {
        "id": "E68y4jsLoB_D"
      }
    },
    {
      "cell_type": "code",
      "source": [
        "def date_KeyValue(news):\n",
        "    date = news.get('date_published')\n",
        "    return [(date,1)]"
      ],
      "metadata": {
        "id": "dcVGweXNoB_E"
      },
      "execution_count": null,
      "outputs": []
    },
    {
      "cell_type": "code",
      "source": [
        "timeline_rdd = parsed_rdd.flatMap(lambda x: date_KeyValue(x))\n",
        "timeline_rdd.count()"
      ],
      "metadata": {
        "colab": {
          "base_uri": "https://localhost:8080/"
        },
        "outputId": "33c3cc11-44fe-403c-feb1-7dbd352fc735",
        "id": "H34ngUKioB_F"
      },
      "execution_count": null,
      "outputs": [
        {
          "output_type": "execute_result",
          "data": {
            "text/plain": [
              "627164"
            ]
          },
          "metadata": {},
          "execution_count": 33
        }
      ]
    },
    {
      "cell_type": "code",
      "source": [
        "timeline_rdd.first()"
      ],
      "metadata": {
        "colab": {
          "base_uri": "https://localhost:8080/"
        },
        "outputId": "8db3c3db-f6cf-4f80-ba82-65a86c6ea229",
        "id": "vJOAieUroB_G"
      },
      "execution_count": null,
      "outputs": [
        {
          "output_type": "execute_result",
          "data": {
            "text/plain": [
              "(1696909606, 1)"
            ]
          },
          "metadata": {},
          "execution_count": 34
        }
      ]
    },
    {
      "cell_type": "code",
      "source": [
        "reduced_timeline_rdd = timeline_rdd.reduceByKey(lambda a,b: a+b)\n",
        "reduced_timeline_rdd.count()"
      ],
      "metadata": {
        "colab": {
          "base_uri": "https://localhost:8080/"
        },
        "outputId": "d84abfba-5749-48e4-9b1c-af7810a5b66c",
        "id": "cTH4l5OvoB_H"
      },
      "execution_count": null,
      "outputs": [
        {
          "output_type": "execute_result",
          "data": {
            "text/plain": [
              "278256"
            ]
          },
          "metadata": {},
          "execution_count": 86
        }
      ]
    },
    {
      "cell_type": "code",
      "source": [
        "sorted_timeline_rdd = reduced_timeline_rdd.map(lambda a: (a[1], a[0])).sortByKey()\n",
        "sorted_timeline_rdd.count()"
      ],
      "metadata": {
        "colab": {
          "base_uri": "https://localhost:8080/"
        },
        "outputId": "8fd77fb0-a606-4a14-ceb2-a2f512ebe3eb",
        "id": "VmdiH7PkoB_I"
      },
      "execution_count": null,
      "outputs": [
        {
          "output_type": "execute_result",
          "data": {
            "text/plain": [
              "278256"
            ]
          },
          "metadata": {},
          "execution_count": 36
        }
      ]
    },
    {
      "cell_type": "code",
      "source": [
        "high_news_days = sorted_timeline_rdd.top(30)"
      ],
      "metadata": {
        "id": "OAjOqDR_oB_J"
      },
      "execution_count": null,
      "outputs": []
    },
    {
      "cell_type": "code",
      "source": [
        "f, ax = plt.subplots(figsize=(14,5))\n",
        "days = [str(day[1]) for day in high_news_days]\n",
        "count = [day[0] for day in high_news_days]\n",
        "plt.bar(days,count,color=\"#008080\")\n",
        "plt.title(\"Number of news per days\")\n",
        "plt.xticks(days, days, rotation='vertical')\n",
        "plt.grid()"
      ],
      "metadata": {
        "colab": {
          "base_uri": "https://localhost:8080/",
          "height": 447
        },
        "outputId": "73a66da2-7616-4a7d-ad89-0bc7123ae6c8",
        "id": "nGHvEiXwoB_J"
      },
      "execution_count": null,
      "outputs": [
        {
          "output_type": "display_data",
          "data": {
            "text/plain": [
              "<Figure size 1400x500 with 1 Axes>"
            ],
            "image/png": "[encoded data removed]"
          },
          "metadata": {}
        }
      ]
    },
    {
      "cell_type": "markdown",
      "source": [
        "---\n",
        "## $\\text{Plot a timeline which shows total count of news per each day that have} \\\\ \\text{at least one of the}\\textit{ word clouds.}$"
      ],
      "metadata": {
        "id": "59T0sW9PHtHu"
      }
    },
    {
      "cell_type": "code",
      "execution_count": null,
      "metadata": {
        "id": "7QbGAvHF0Kfq"
      },
      "outputs": [],
      "source": [
        "def news_with_keywords(news,frequent_keywords):\n",
        "    if news.get('keywords') == None:\n",
        "        return [(str(news.get(\"date_published\")),0)]\n",
        "\n",
        "    for keyword in frequent_keywords:\n",
        "        if keyword in news.get(\"keywords\"):\n",
        "          return [(str(news.get(\"date_published\")),1)]\n",
        "    return [(str(news.get(\"date_published\")),0)]"
      ]
    },
    {
      "cell_type": "code",
      "execution_count": null,
      "metadata": {
        "colab": {
          "base_uri": "https://localhost:8080/"
        },
        "id": "Igb23OWs59th",
        "outputId": "8c2e1940-773e-4c1f-f8de-6a78091ed736"
      },
      "outputs": [
        {
          "output_type": "execute_result",
          "data": {
            "text/plain": [
              "627164"
            ]
          },
          "metadata": {},
          "execution_count": 24
        }
      ],
      "source": [
        "news_with_keywords_rdd = parsed_rdd.flatMap(lambda x: news_with_keywords(x,topics))\n",
        "news_with_keywords_rdd.count()"
      ]
    },
    {
      "cell_type": "code",
      "execution_count": null,
      "metadata": {
        "colab": {
          "base_uri": "https://localhost:8080/"
        },
        "id": "zpw2mvRz3Gjk",
        "outputId": "8e156d18-ad48-497f-f1ef-4f39bcb05e5a"
      },
      "outputs": [
        {
          "output_type": "execute_result",
          "data": {
            "text/plain": [
              "278256"
            ]
          },
          "metadata": {},
          "execution_count": 25
        }
      ],
      "source": [
        "reduced_news_with_keywords_rdd = news_with_keywords_rdd.reduceByKey(lambda a,b: a+b)\n",
        "reduced_news_with_keywords_rdd.count()"
      ]
    },
    {
      "cell_type": "code",
      "execution_count": null,
      "metadata": {
        "colab": {
          "base_uri": "https://localhost:8080/"
        },
        "id": "Ozt31VENBsUp",
        "outputId": "1bbdf993-6e80-4772-e92f-5162ebac4558"
      },
      "outputs": [
        {
          "output_type": "execute_result",
          "data": {
            "text/plain": [
              "278256"
            ]
          },
          "metadata": {},
          "execution_count": 26
        }
      ],
      "source": [
        "sorted_news_with_keywords_rdd = reduced_news_with_keywords_rdd.map(lambda a: (a[1], a[0])).sortByKey()\n",
        "sorted_news_with_keywords_rdd.count()"
      ]
    },
    {
      "cell_type": "code",
      "execution_count": null,
      "metadata": {
        "id": "xZW8y7c4YgQg"
      },
      "outputs": [],
      "source": [
        "top20 = sorted_news_with_keywords_rdd.top(20)"
      ]
    },
    {
      "cell_type": "code",
      "execution_count": null,
      "metadata": {
        "colab": {
          "base_uri": "https://localhost:8080/"
        },
        "id": "xvO-yoEmW6Ms",
        "outputId": "3aa9fca1-feee-45a2-c6c8-9e710ec3552f"
      },
      "outputs": [
        {
          "output_type": "execute_result",
          "data": {
            "text/plain": [
              "[(280, '1697229000'),\n",
              " (278, '1697315400'),\n",
              " (242, '1697401800'),\n",
              " (229, '1696710600'),\n",
              " (160, '1697488200'),\n",
              " (115, '1698822610'),\n",
              " (99, '1698153343'),\n",
              " (90, '1698697800'),\n",
              " (71, '1698352200'),\n",
              " (64, '1699129800'),\n",
              " (64, '1697574600'),\n",
              " (63, '1698611400'),\n",
              " (62, '1698784200'),\n",
              " (56, '1698179400'),\n",
              " (55, '1698957000'),\n",
              " (54, '1698006600'),\n",
              " (49, '1699043400'),\n",
              " (49, '1698525000'),\n",
              " (48, '1697920200'),\n",
              " (46, '1698870600')]"
            ]
          },
          "metadata": {},
          "execution_count": 28
        }
      ],
      "source": [
        "top20"
      ]
    },
    {
      "cell_type": "code",
      "execution_count": null,
      "metadata": {
        "colab": {
          "base_uri": "https://localhost:8080/",
          "height": 542
        },
        "id": "Kfv1jKTAWiW4",
        "outputId": "29b37ef0-7e9d-47d9-ffac-a3a27e5fd4a9"
      },
      "outputs": [
        {
          "output_type": "display_data",
          "data": {
            "text/plain": [
              "<Figure size 1400x500 with 1 Axes>"
            ],
            "image/png": "[encoded data removed]"
          },
          "metadata": {}
        }
      ],
      "source": [
        "from matplotlib import pyplot as plt\n",
        "\n",
        "f, ax = plt.subplots(figsize=(14,5))\n",
        "days = [str(day[1]) for day in top20]\n",
        "count = [day[0] for day in top20]\n",
        "plt.bar(days,count,color=\"#008080\")\n",
        "plt.title(\"Number of news with at least one keyword\")\n",
        "plt.xticks(days, days, rotation='vertical')\n",
        "plt.grid()\n",
        "plt.show()"
      ]
    },
    {
      "cell_type": "markdown",
      "metadata": {
        "id": "bafdc7f3"
      },
      "source": [
        "***\n",
        "\n",
        "# $\\text{Section 4: A-prior algorithm}$\n"
      ]
    },
    {
      "cell_type": "markdown",
      "source": [
        "---\n",
        "\n",
        "## $\\text{Find 3-sets words collections that appear together the most}$"
      ],
      "metadata": {
        "id": "qWhtRk3BoI9i"
      }
    },
    {
      "cell_type": "code",
      "execution_count": null,
      "metadata": {
        "id": "o5YqgfKeGrLm"
      },
      "outputs": [],
      "source": [
        "import itertools"
      ]
    },
    {
      "cell_type": "code",
      "execution_count": null,
      "metadata": {
        "id": "K-WwNi_9pxrm"
      },
      "outputs": [],
      "source": [
        "def A_prior_2tuples(one_news_body, two_tuples):\n",
        "    frequent_two_tuples = []\n",
        "    for one_tuple in two_tuples:\n",
        "        cnt0 = one_news_body.count(one_tuple[0])\n",
        "        cnt1 = one_news_body.count(one_tuple[1])\n",
        "        frequent_two_tuples.append(((one_tuple[0],one_tuple[1]), min(cnt0,cnt1)))\n",
        "    return frequent_two_tuples"
      ]
    },
    {
      "cell_type": "code",
      "execution_count": null,
      "metadata": {
        "id": "VCTnddqN9tKm"
      },
      "outputs": [],
      "source": [
        "single_freq_words = [i[1] for i in top20]\n",
        "two_tuples = itertools.combinations(single_freq_words,2)"
      ]
    },
    {
      "cell_type": "code",
      "execution_count": null,
      "metadata": {
        "colab": {
          "base_uri": "https://localhost:8080/"
        },
        "id": "82C0uB_wR3zR",
        "outputId": "3cdb1025-0a83-4de3-cf81-b0d9991df752"
      },
      "outputs": [
        {
          "output_type": "execute_result",
          "data": {
            "text/plain": [
              "119161160"
            ]
          },
          "metadata": {},
          "execution_count": 139
        }
      ],
      "source": [
        "two_tuples = tuple(list(two_tuples))\n",
        "two_tuples_rdd = processed_news_rdd.flatMap(lambda x:A_prior_2tuples(x.get(\"body\"),two_tuples))\n",
        "two_tuples_rdd.count()"
      ]
    },
    {
      "cell_type": "code",
      "execution_count": null,
      "metadata": {
        "id": "L8QpwemRR3zT",
        "colab": {
          "base_uri": "https://localhost:8080/"
        },
        "outputId": "7edf7871-cab2-444b-a1b0-f2cd55f50ced"
      },
      "outputs": [
        {
          "output_type": "execute_result",
          "data": {
            "text/plain": [
              "190"
            ]
          },
          "metadata": {},
          "execution_count": 140
        }
      ],
      "source": [
        "reduced_two_tuples_rdd = two_tuples_rdd.reduceByKey(lambda a,b: a+b)\n",
        "reduced_two_tuples_rdd.count()"
      ]
    },
    {
      "cell_type": "code",
      "execution_count": null,
      "metadata": {
        "id": "fIPkPcOLR3zU",
        "colab": {
          "base_uri": "https://localhost:8080/"
        },
        "outputId": "acfe6cf1-ce7a-477d-a423-f380de9cf8ea"
      },
      "outputs": [
        {
          "output_type": "execute_result",
          "data": {
            "text/plain": [
              "[(169324, ('گزارش', 'کشور')),\n",
              " (156349, ('گزارش', 'سال')),\n",
              " (150215, ('گزارش', 'ادامه')),\n",
              " (132067, ('کشور', 'سال')),\n",
              " (126856, ('گزارش', 'خبرگزاری')),\n",
              " (124708, ('گزارش', 'ایران')),\n",
              " (119497, ('کشور', 'ادامه')),\n",
              " (119265, ('گزارش', 'اعلام')),\n",
              " (117254, ('کشور', 'ایران')),\n",
              " (111844, ('سال', 'ادامه')),\n",
              " (109704, ('گزارش', 'پایان')),\n",
              " (109201, ('گزارش', 'انجام')),\n",
              " (108852, ('گزارش', 'عنوان')),\n",
              " (108222, ('گزارش', 'حضور')),\n",
              " (105997, ('گزارش', 'گذشته')),\n",
              " (105806, ('گزارش', 'کار')),\n",
              " (103391, ('گزارش', 'خبر')),\n",
              " (100282, ('سال', 'گذشته')),\n",
              " (100005, ('گزارش', 'اشاره')),\n",
              " (97350, ('گزارش', 'مردم')),\n",
              " (93727, ('سال', 'ایران')),\n",
              " (93577, ('گزارش', 'بیان')),\n",
              " (93497, ('سال', 'کار')),\n",
              " (93310, ('سال', 'عنوان')),\n",
              " (92204, ('گزارش', 'اظهار')),\n",
              " (91087, ('گزارش', 'استان')),\n",
              " (91081, ('کشور', 'عنوان')),\n",
              " (89724, ('کشور', 'مردم')),\n",
              " (89699, ('گزارش', 'توجه')),\n",
              " (88145, ('کشور', 'اشاره')),\n",
              " (87405, ('ادامه', 'کار')),\n",
              " (87176, ('ادامه', 'انجام')),\n",
              " (87124, ('سال', 'انجام')),\n",
              " (86454, ('کشور', 'انجام')),\n",
              " (86269, ('کشور', 'کار')),\n",
              " (86052, ('ادامه', 'اشاره')),\n",
              " (84998, ('کشور', 'اعلام')),\n",
              " (84744, ('ادامه', 'ایران')),\n",
              " (84181, ('ادامه', 'بیان')),\n",
              " (83908, ('کشور', 'گذشته')),\n",
              " (83721, ('سال', 'اشاره')),\n",
              " (83113, ('کشور', 'حضور')),\n",
              " (81481, ('ادامه', 'عنوان')),\n",
              " (80563, ('کشور', 'بیان')),\n",
              " (79939, ('سال', 'پایان')),\n",
              " (79657, ('سال', 'توجه')),\n",
              " (78786, ('کشور', 'پایان')),\n",
              " (78730, ('ادامه', 'مردم')),\n",
              " (78330, ('سال', 'بیان')),\n",
              " (78150, ('کار', 'انجام'))]"
            ]
          },
          "metadata": {},
          "execution_count": 141
        }
      ],
      "source": [
        "sorted_two_tuples_rdd = reduced_two_tuples_rdd.map(lambda a: (a[1], a[0])).sortByKey()\n",
        "sorted_two_tuples_rdd.top(50)"
      ]
    },
    {
      "cell_type": "code",
      "source": [
        "frequent_two_tuples = sorted_two_tuples_rdd.top(50)"
      ],
      "metadata": {
        "id": "YqAERoq_2i1F"
      },
      "execution_count": null,
      "outputs": []
    },
    {
      "cell_type": "code",
      "source": [
        "f, ax = plt.subplots(figsize=(14,5))\n",
        "x_labels = [get_display(reshape(str(two_tuple[1]))) for two_tuple in frequent_two_tuples]\n",
        "count = [two_tuple[0] for two_tuple in frequent_two_tuples]\n",
        "plt.bar(x_labels,count,color=\"#008080\")\n",
        "plt.xticks(x_labels, x_labels, rotation='vertical')\n",
        "plt.title(\"Frequent 2-set words\")\n",
        "plt.grid()"
      ],
      "metadata": {
        "colab": {
          "base_uri": "https://localhost:8080/",
          "height": 587
        },
        "id": "khKj5c2M2bH7",
        "outputId": "5d7a6074-5bca-414c-9d93-d9ae4a6758b0"
      },
      "execution_count": null,
      "outputs": [
        {
          "output_type": "display_data",
          "data": {
            "text/plain": [
              "<Figure size 1400x500 with 1 Axes>"
            ],
            "image/png": "[encoded data removed]"
          },
          "metadata": {}
        }
      ]
    },
    {
      "cell_type": "code",
      "execution_count": null,
      "metadata": {
        "id": "5Ijg56aUSxAr"
      },
      "outputs": [],
      "source": [
        "def A_prior_3tuples(one_news_body, frequent_single_words, frequent_two_tuples):\n",
        "    frequent_three_tuples = []\n",
        "    candidate_three_tuples = []\n",
        "\n",
        "    for x in frequent_two_tuples:\n",
        "        for y in frequent_single_words:\n",
        "            if y == x[0] or y == x[1]: # No duplication in tuple\n",
        "              break\n",
        "            three_tuple = x + (y,)\n",
        "            all_two_tuples = itertools.combinations(three_tuple,2)\n",
        "            for sub_tuple in all_two_tuples:\n",
        "                if sub_tuple in frequent_two_tuples: # subsets must be frequent\n",
        "                    candidate_three_tuples.append(three_tuple)\n",
        "\n",
        "    for pairs in candidate_three_tuples:\n",
        "        cnt0 = one_news_body.count(pairs[0])\n",
        "        cnt1 = one_news_body.count(pairs[1])\n",
        "        cnt2 = one_news_body.count(pairs[2])\n",
        "        frequent_three_tuples.append(((pairs[0],pairs[1],pairs[2]),min(cnt0,cnt1,cnt2)))\n",
        "\n",
        "    return frequent_three_tuples"
      ]
    },
    {
      "cell_type": "code",
      "execution_count": null,
      "metadata": {
        "id": "EVakwQI8SxAs"
      },
      "outputs": [],
      "source": [
        "frequent_two_tuples = sorted_two_tuples_rdd.top(30)"
      ]
    },
    {
      "cell_type": "code",
      "execution_count": null,
      "metadata": {
        "id": "Qn_hZWMiSxAt"
      },
      "outputs": [],
      "source": [
        "frequent_words_two_tuples = [x[1] for x in frequent_two_tuples]"
      ]
    },
    {
      "cell_type": "code",
      "execution_count": null,
      "metadata": {
        "colab": {
          "base_uri": "https://localhost:8080/"
        },
        "id": "G9jsRVdtSxAw",
        "outputId": "b664b339-f6cf-454a-b1cb-83c8b4959816"
      },
      "outputs": [
        {
          "output_type": "execute_result",
          "data": {
            "text/plain": [
              "10034624"
            ]
          },
          "metadata": {},
          "execution_count": 150
        }
      ],
      "source": [
        "three_tuples_rdd = processed_news_rdd.flatMap(lambda x:A_prior_3tuples(x.get(\"body\"),single_freq_words, frequent_words_two_tuples))\n",
        "three_tuples_rdd.count()"
      ]
    },
    {
      "cell_type": "code",
      "execution_count": null,
      "metadata": {
        "colab": {
          "base_uri": "https://localhost:8080/"
        },
        "id": "otjoZnL2SxAw",
        "outputId": "1ef684cb-186f-43a6-b32b-fe277bc0218c"
      },
      "outputs": [
        {
          "output_type": "execute_result",
          "data": {
            "text/plain": [
              "16"
            ]
          },
          "metadata": {},
          "execution_count": 151
        }
      ],
      "source": [
        "reduced_three_tuples_rdd = three_tuples_rdd.reduceByKey(lambda a,b: a+b)\n",
        "reduced_three_tuples_rdd.count()"
      ]
    },
    {
      "cell_type": "code",
      "execution_count": null,
      "metadata": {
        "colab": {
          "base_uri": "https://localhost:8080/"
        },
        "id": "AGr-2KhzSxAx",
        "outputId": "7457ff6e-40c8-46aa-d6cd-cc7077ee644c"
      },
      "outputs": [
        {
          "output_type": "execute_result",
          "data": {
            "text/plain": [
              "[(88002, ('کشور', 'سال', 'گزارش')),\n",
              " (81517, ('کشور', 'ادامه', 'گزارش')),\n",
              " (78276, ('کشور', 'ایران', 'گزارش')),\n",
              " (74070, ('سال', 'ادامه', 'گزارش')),\n",
              " (70384, ('سال', 'ادامه', 'کشور')),\n",
              " (66641, ('سال', 'ایران', 'کشور')),\n",
              " (66538, ('سال', 'گذشته', 'گزارش')),\n",
              " (61944, ('سال', 'گذشته', 'کشور')),\n",
              " (61452, ('سال', 'عنوان', 'گزارش')),\n",
              " (61377, ('کشور', 'عنوان', 'گزارش')),\n",
              " (60995, ('سال', 'ایران', 'گزارش')),\n",
              " (60103, ('کشور', 'اشاره', 'گزارش')),\n",
              " (59915, ('سال', 'کار', 'گزارش')),\n",
              " (59714, ('کشور', 'مردم', 'گزارش')),\n",
              " (59068, ('سال', 'عنوان', 'کشور')),\n",
              " (57583, ('سال', 'کار', 'کشور'))]"
            ]
          },
          "metadata": {},
          "execution_count": 152
        }
      ],
      "source": [
        "sorted_three_tuples_rdd = reduced_three_tuples_rdd.map(lambda a: (a[1], a[0])).sortByKey()\n",
        "sorted_three_tuples_rdd.top(20)"
      ]
    },
    {
      "cell_type": "code",
      "source": [
        "frequent_three_tuples = sorted_three_tuples_rdd.top(20)"
      ],
      "metadata": {
        "id": "P9qwbg-c3XYR"
      },
      "execution_count": null,
      "outputs": []
    },
    {
      "cell_type": "code",
      "source": [
        "f, ax = plt.subplots(figsize=(14,5))\n",
        "x_labels = [get_display(reshape(str(three_tuple[1]))) for three_tuple in frequent_three_tuples]\n",
        "count = [three_tuple[0] for three_tuple in frequent_three_tuples]\n",
        "plt.bar(x_labels,count,color=\"#008080\")\n",
        "plt.xticks(x_labels, x_labels, rotation='vertical')\n",
        "plt.title(\"Frequent 3-set words\")\n",
        "plt.grid()"
      ],
      "metadata": {
        "colab": {
          "base_uri": "https://localhost:8080/",
          "height": 614
        },
        "id": "bBOGIgZj3Vk_",
        "outputId": "18177cf7-4fe2-46a8-c4ec-65c509d910a2"
      },
      "execution_count": null,
      "outputs": [
        {
          "output_type": "display_data",
          "data": {
            "text/plain": [
              "<Figure size 1400x500 with 1 Axes>"
            ],
            "image/png": "[encoded data removed]"
          },
          "metadata": {}
        }
      ]
    },
    {
      "cell_type": "markdown",
      "source": [
        "---\n",
        "\n",
        "## $\\text{Model Validation (TF-IDF)}$"
      ],
      "metadata": {
        "id": "kFrR-uW8oTC9"
      }
    },
    {
      "cell_type": "code",
      "execution_count": null,
      "metadata": {
        "id": "Lb6rau4DZs2J"
      },
      "outputs": [],
      "source": [
        "import numpy as np\n",
        "\n",
        "def n_i_calc(news_body, frequent_words):\n",
        "    cnt = [0,0,0]\n",
        "    if frequent_words[0] in news_body:\n",
        "       cnt[0] = 1\n",
        "    if frequent_words[1] in news_body:\n",
        "       cnt[1] = 1\n",
        "    if frequent_words[2] in news_body:\n",
        "       cnt[2] = 1\n",
        "    return [(frequent_words[0],cnt[0]),(frequent_words[1],cnt[1]),(frequent_words[2],cnt[2])]"
      ]
    },
    {
      "cell_type": "code",
      "execution_count": null,
      "metadata": {
        "id": "R0G785zZjWRX"
      },
      "outputs": [],
      "source": [
        "n_i_rdd = processed_news_rdd.flatMap(lambda x: n_i_calc(x.get('body'), frequent_words))"
      ]
    },
    {
      "cell_type": "code",
      "execution_count": null,
      "metadata": {
        "id": "nhQUhttkjXkG"
      },
      "outputs": [],
      "source": [
        "n_i_rdd_reduced = n_i_rdd.reduceByKey(lambda a,b:a+b)"
      ]
    },
    {
      "cell_type": "code",
      "execution_count": null,
      "metadata": {
        "id": "q_0p2gS4jijN",
        "colab": {
          "base_uri": "https://localhost:8080/"
        },
        "outputId": "b7ae7024-b255-4e6c-b90d-9431bce70a9c"
      },
      "outputs": [
        {
          "output_type": "execute_result",
          "data": {
            "text/plain": [
              "3"
            ]
          },
          "metadata": {},
          "execution_count": 25
        }
      ],
      "source": [
        "n_i_rdd_reduced.count()"
      ]
    },
    {
      "cell_type": "code",
      "execution_count": null,
      "metadata": {
        "id": "U5acDshpjlHs",
        "colab": {
          "base_uri": "https://localhost:8080/"
        },
        "outputId": "cb84d594-eb05-470c-a856-3f9bb8219a26"
      },
      "outputs": [
        {
          "output_type": "execute_result",
          "data": {
            "text/plain": [
              "[('گزارش', 383253), ('کشور', 258258), ('سال', 244481)]"
            ]
          },
          "metadata": {},
          "execution_count": 26
        }
      ],
      "source": [
        "n_i_rdd_reduced.top(3)"
      ]
    },
    {
      "cell_type": "code",
      "execution_count": null,
      "metadata": {
        "id": "p1MDRBgqkfhZ"
      },
      "outputs": [],
      "source": [
        "def TF_IDF(news,frequent_words,n_i,N,threshold):\n",
        "\n",
        "    f = [news.get(\"body\").count(frequent_words[i]) for i in range(0,len(frequent_words))]\n",
        "    if len(news.get('body')) == 0:\n",
        "        return []\n",
        "    scores = [( f[i]/len(news.get(\"body\")) ) * np.log10(1 + N/n_i[i][1]) for i in range(0,len(frequent_words))]\n",
        "\n",
        "    high_score_news = []\n",
        "\n",
        "    for i in range(0,len(frequent_words)):\n",
        "        if scores[i] > threshold:\n",
        "            high_score_news.append((frequent_words[i],news))\n",
        "\n",
        "    return high_score_news"
      ]
    },
    {
      "cell_type": "code",
      "source": [
        "N = 627164\n",
        "n_i = n_i_rdd_reduced.top(3)\n",
        "TF_IDF_score_rdd = processed_news_rdd.flatMap(lambda x: TF_IDF(x,frequent_words,n_i,N,0.06))\n",
        "TF_IDF_score_rdd_grouped = TF_IDF_score_rdd.groupByKey()\n",
        "collected = TF_IDF_score_rdd_grouped.map(lambda x : (x[0], list(x[1]))).collect()\n",
        "collected"
      ],
      "metadata": {
        "colab": {
          "base_uri": "https://localhost:8080/"
        },
        "id": "kWdHsa-Ah_-b",
        "outputId": "b3369a5e-6bf5-46a0-c926-b2243e4ba2dd"
      },
      "execution_count": null,
      "outputs": [
        {
          "output_type": "execute_result",
          "data": {
            "text/plain": [
              "[('گزارش',\n",
              "  [{'body': ['الجزیره',\n",
              "     'غزه',\n",
              "     'پرداختهاست',\n",
              "     'قتلعام',\n",
              "     'گزارش',\n",
              "     'غیرنظامی',\n",
              "     'مجروح',\n",
              "     'اسرائیل'],\n",
              "    'image_title_url': 'https://cdn.donya-e-eqtesad.com/thumbnail/3cJeFfKrSdm3/QHn8O9nsSzT8qCU7RegsN6Pbb5v74eEtbKeSOh05RaYq672OrIRuQkt7TZyzEhnm/AP23280355081673.jpg',\n",
              "    'language': 'fa',\n",
              "    'source': 'روزنامه دنیای اقتصاد',\n",
              "    'title': 'گزارشی تکان دهنده از قتل\\u200cعام در شهر الزهرای غزه+ فیلم',\n",
              "    'date_published': 1698190443,\n",
              "    'uid': '0283ab8596a77006eff697219',\n",
              "    'url': 'https://donya-e-eqtesad.com/بخش-%D8%B3%D8%A7%DB%8C%D8%AA-%D8%AE%D9%88%D8%A7%D9%86-62/4013982-%DA%AF%D8%B2%D8%A7%D8%B1%D8%B4%DB%8C-%D8%AA%DA%A9%D8%A7%D9%86-%D8%AF%D9%87%D9%86%D8%AF%D9%87-%D8%A7%D8%B2-%D9%82%D8%AA%D9%84-%D8%B9%D8%A7%D9%85-%D8%AF%D8%B1-%D8%B4%D9%87%D8%B1-%D8%A7%D9%84%D8%B2%D9%87%D8%B1%D8%A7%DB%8C-%D8%BA%D8%B2%D9%87-%D9%81%DB%8C%D9%84%D9%85',\n",
              "    'crawler_timestamp': 1698190779,\n",
              "    'ingestor_timestamp': 1698206973,\n",
              "    'summary': 'الجزیره در گزارشی به قتل عام و مجروح شدن صدها غیرنظامی در غزه توسط اسرائیل پرداخته است.',\n",
              "    'hostname': 'donya-e-eqtesad.com',\n",
              "    'parser_categories': ['سایت خوان دنیای اقتصاد'],\n",
              "    'keywords': ['اسرائیل', 'الجزیره', 'الزهرا', 'الزهرای'],\n",
              "    'parser_keyword': ['غزه و کرانه باختری',\n",
              "     'جنگ اسرائیل و حماس',\n",
              "     'جنگ اسرائیل و غزه',\n",
              "     'شهر الزهرا غزه'],\n",
              "    'author': 'سایت خوان دنیای اقتصاد',\n",
              "    'processed_body': 'الجزیره در گزارشی به تخریب کامل شهر الزهرا در مرکز غزه توسط اسرائیل و قتل عام و مجروح شدن صدها غیرنظامی پرداخته است.\\n\\nدستپخت اسرائیل در غزه/ آخرین وضعیت مجروحان حمله سنگین امروز+ فیلم',\n",
              "    'images_url': [],\n",
              "    'categories': ['economy'],\n",
              "    'ner_tags': [{'type': 'GPE', 'entity': 'الزهرای غزه+'},\n",
              "     {'type': 'ORG', 'entity': 'الجزیره'},\n",
              "     {'type': 'GPE', 'entity': 'غزه'},\n",
              "     {'type': 'ORG', 'entity': 'اسرائیل'},\n",
              "     {'type': 'ORG', 'entity': 'الجزیره'},\n",
              "     {'type': 'GPE', 'entity': 'الزهرا'},\n",
              "     {'type': 'GPE', 'entity': 'غزه'},\n",
              "     {'type': 'ORG', 'entity': 'اسرائیل'},\n",
              "     {'type': 'ORG', 'entity': 'اسرائیل'},\n",
              "     {'type': 'GPE', 'entity': 'غزه'}]}]),\n",
              " ('سال',\n",
              "  [{'body': ['رژیم', 'آتش', 'انزجار', 'افروخته', 'صهیونیست', 'سال'],\n",
              "    'image_title_url': 'https://cdn.yjc.ir/files/fa/news/1402/7/16/18379166_614.jpg',\n",
              "    'language': 'fa',\n",
              "    'source': 'خبرگزاری باشگاه خبرنگاران | آخرین اخبار ایران و جهان | YJC',\n",
              "    'title': 'حمایت مردم قزوین از مقاومت فلسطین+ فیلم',\n",
              "    'date_published': 1696702758,\n",
              "    'uid': '63c6e9a66b8b9efa6c25ad61f',\n",
              "    'url': 'http://www.yjc.ir/fa/news/8565964',\n",
              "    'crawler_timestamp': 1696703042,\n",
              "    'ingestor_timestamp': 1696717496,\n",
              "    'summary': 'مردم قزوین هم، همچون دیگر هموطنان پیروزی مقاومت علیه اشغالگران را جشن گرفتند.',\n",
              "    'hostname': 'yjc.ir',\n",
              "    'parser_categories': ['قزوین'],\n",
              "    'keywords': ['جبهه مقاومت حماس',\n",
              "     'طوفان الاقصی',\n",
              "     'مقاومت فلسطین',\n",
              "     'پیروزی مقاومت'],\n",
              "    'parser_keyword': ['حمایت مردم',\n",
              "     'جشن و سرور',\n",
              "     'مقاومت فلسطین',\n",
              "     'المان مینودر قزوین',\n",
              "     'جبهه مقاومت'],\n",
              "    'author': 'خبرگزاری باشگاه خبرنگاران; آخرین اخبار ایران و جهان; YJC',\n",
              "    'processed_body': 'مردم قزوین به مناسبت پیروزی نیرو\\u200cهای مقاومت فلسطین در عملیات «طوفان الاقصی» به جشن و سرور پرداختند.\\n\\nبه مناسبت پیروزی رزمندگان جبهه مقاومت حماس، المان مینودر قزوین به جمله زیبایی القدس لنا مزین شد.',\n",
              "    'categories': ['economy'],\n",
              "    'ner_tags': [{'type': 'GPE', 'entity': 'قزوین'},\n",
              "     {'type': 'NORP', 'entity': 'مقاومت فلسطین+'},\n",
              "     {'type': 'GPE', 'entity': 'قزوین'},\n",
              "     {'type': 'GPE', 'entity': 'قزوین'},\n",
              "     {'type': 'EVE', 'entity': 'عملیات « طوفان الاقصی'},\n",
              "     {'type': 'NORP', 'entity': 'جبهه مقاومت حماس'},\n",
              "     {'type': 'GPE', 'entity': 'المان'},\n",
              "     {'type': 'ORG', 'entity': 'مینودر'},\n",
              "     {'type': 'GPE', 'entity': 'قزوین'}]},\n",
              "   {'body': ['قوت', 'خدمت', 'فیلم', 'پزشک', 'سال'],\n",
              "    'image_title_url': 'https://cdn.yjc.ir/files/fa/news/1402/8/11/18497546_220.jpg',\n",
              "    'language': 'fa',\n",
              "    'source': 'خبرگزاری باشگاه خبرنگاران | آخرین اخبار ایران و جهان | YJC',\n",
              "    'title': 'تصاویری از مرمت و بهسازی برج کبوتر شهر هرند',\n",
              "    'date_published': 1698943673,\n",
              "    'uid': '3d234ce4bfbe3cf3a9ff5e678',\n",
              "    'url': 'http://www.yjc.ir/fa/news/8587702',\n",
              "    'crawler_timestamp': 1698943993,\n",
              "    'ingestor_timestamp': 1698958855,\n",
              "    'summary': 'برج کبوترخانه مزرعه حسین آباد شهر هرند مرمت و بهسازی شد.',\n",
              "    'hostname': 'yjc.ir',\n",
              "    'parser_categories': ['اصفهان'],\n",
              "    'keywords': ['برج کبوترخانه مزرعه حسین آباد', 'برج', 'هرند', 'کبوتر'],\n",
              "    'parser_keyword': ['برج کبوتر', 'هرند', 'اصفهان'],\n",
              "    'author': 'خبرگزاری باشگاه خبرنگاران; آخرین اخبار ایران و جهان; YJC',\n",
              "    'processed_body': '\\\\n\\\\u0633\\\\u0631\\\\u067e\\\\u0631\\\\u0633\\\\u062a \\\\u0627\\\\u062f\\\\u0627\\\\u0631\\\\u0647 \\\\u0645\\\\u06cc\\\\u0631\\\\u0627\\\\u062b\\\\u200c\\\\u0641\\\\u0631\\\\u0647\\\\u0646\\\\u06af\\\\u06cc\\\\u060c \\\\u06af\\\\u0631\\\\u062f\\\\u0634\\\\u06af\\\\u0631\\\\u06cc \\\\u0648 \\\\u0635\\\\u0646\\\\u0627\\\\u06cc\\\\u0639\\\\u200c\\\\u062f\\\\u0633\\\\u062a\\\\u06cc \\\\u0647\\\\u0631\\\\u0646\\\\u062f \\\\u06af\\\\u0641\\\\u062a: \\\\u0628\\\\u0631\\\\u0627\\\\u06cc \\\\u0645\\\\u0631\\\\u0645\\\\u062a \\\\u0627\\\\u06cc\\\\u0646 \\\\u0628\\\\u0631\\\\u062c \\\\u06f1\\\\u06f5\\\\u06f0 \\\\u0633\\\\u0627\\\\u0644\\\\u0647 \\\\u0628\\\\u06cc\\\\u0634 \\\\u0627\\\\u0632 \\\\u06f4\\\\u0660\\\\u0660 \\\\u0645\\\\u06cc\\\\u0644\\\\u06cc\\\\u0648\\\\u0646 \\\\u062a\\\\u0648\\\\u0645\\\\u0627\\\\u0646 \\\\u0647\\\\u0632\\\\u06cc\\\\u0646\\\\u0647 \\\\u0634\\\\u062f\\\\u0647 \\\\u0627\\\\u0633\\\\u062a.\\\\n\\\\u00a0\\\\n\\\\u00a0\\\\n\\\\u00a0\\\\n\\\\u00a0\\\\n\\\\n\\\\u0645\\\\u0631\\\\u0645\\\\u062a \\\\u0648 \\\\u0628\\\\u0647\\\\u0633\\\\u0627\\\\u0632\\\\u06cc \\\\u0628\\\\u0631\\\\u062c \\\\u06a9\\\\u0628\\\\u0648\\\\u062a\\\\u0631 \\\\u0634\\\\u0647\\\\u0631 \\\\u0647\\\\u0631\\\\u0646\\\\u062f\\\\n\\\\u00a0',\n",
              "    'images_url': [],\n",
              "    'categories': ['economy'],\n",
              "    'ner_tags': [{'type': 'FAC', 'entity': 'برج کبوتر شهر هرند'},\n",
              "     {'type': 'FAC', 'entity': 'برج کبوترخانه'},\n",
              "     {'type': 'FAC', 'entity': 'مزرعه حسین آباد شهر هرند'}]},\n",
              "   {'body': ['حقوق', 'افزایش', 'آینده', 'درصدی', 'کارمند', 'احتمال', 'سال'],\n",
              "    'image_title_url': 'https://cdn.yjc.ir/files/fa/news/1402/8/9/18484401_143.jpeg',\n",
              "    'language': 'fa',\n",
              "    'source': 'خبرگزاری باشگاه خبرنگاران | آخرین اخبار ایران و جهان | YJC',\n",
              "    'title': 'صفحه نخست روزنامه\\u200cها - چهارشنبه ۱۰ آبان',\n",
              "    'date_published': 1698791902,\n",
              "    'uid': 'fdc5c82ea6d9a1949de3259a7',\n",
              "    'url': 'http://www.yjc.ir/fa/news/8585192',\n",
              "    'crawler_timestamp': 1698792071,\n",
              "    'ingestor_timestamp': 1698807699,\n",
              "    'summary': 'روزنامه\\u200cهای امروز به موضوعاتی نظیر دیدار رئیس جمهور با جمعی از نوجوانان نخبه و جنایت جدید صهیونیست\\u200cها در حمله به اردوگاه جبالیا پرداخته\\u200cاند.',\n",
              "    'hostname': 'yjc.ir',\n",
              "    'parser_categories': ['احزاب و تشکل\\u200cها'],\n",
              "    'keywords': ['اردوگاه جبالیا', 'رئیس جمهور', 'اسرائیل', 'انصارالله'],\n",
              "    'parser_keyword': ['صفحه نخست روزنامه ها', 'روزنامه ها'],\n",
              "    'author': 'خبرگزاری باشگاه خبرنگاران; آخرین اخبار ایران و جهان; YJC',\n",
              "    'processed_body': 'جنایت در جبالیا با ۶ تن بمب، دیدار رئیس جمهور با جمعی از نوجوانان نخبه، اسرائیل در باتلاق تونل\\u200cها و خیابان\\u200cها، مارپیچ دشوار آتش\\u200cبس و توفان انصارالله از عناوین روزنامه\\u200cهای امروز هستند.',\n",
              "    'images_url': ['https://cdn.yjc.ir/files/fa/news/1402/8/9/18488356_952.png',\n",
              "     'https://cdn.yjc.ir/files/fa/news/1402/8/9/18488364_339.png',\n",
              "     'https://cdn.yjc.ir/files/fa/news/1402/8/9/18488380_431.png',\n",
              "     'https://cdn.yjc.ir/files/fa/news/1402/8/10/18488705_895.jpg',\n",
              "     'https://cdn.yjc.ir/files/fa/news/1402/8/10/18488706_776.jpg',\n",
              "     'https://cdn.yjc.ir/files/fa/news/1402/8/10/18488707_309.jpg',\n",
              "     'https://cdn.yjc.ir/files/fa/news/1402/8/10/18488708_744.jpg',\n",
              "     'https://cdn.yjc.ir/files/fa/news/1402/8/10/18488709_370.jpg',\n",
              "     'https://cdn.yjc.ir/files/fa/news/1402/8/10/18488710_926.jpg',\n",
              "     'https://cdn.yjc.ir/files/fa/news/1402/8/10/18488711_366.jpg',\n",
              "     'https://cdn.yjc.ir/files/fa/news/1402/8/10/18488712_780.jpg',\n",
              "     'https://cdn.yjc.ir/files/fa/news/1402/8/10/18488713_801.jpg',\n",
              "     'https://cdn.yjc.ir/files/fa/news/1402/8/10/18488714_543.jpg',\n",
              "     'https://cdn.yjc.ir/files/fa/news/1402/8/10/18488715_536.jpg',\n",
              "     'https://cdn.yjc.ir/files/fa/news/1402/8/10/18488716_600.jpg',\n",
              "     'https://cdn.yjc.ir/files/fa/news/1402/8/10/18488717_863.jpg'],\n",
              "    'categories': ['economy'],\n",
              "    'ner_tags': [{'type': 'POST', 'entity': 'رئیس جمهور'},\n",
              "     {'type': 'NORP', 'entity': 'صهیونیست\\u200cها'},\n",
              "     {'type': 'FAC', 'entity': 'اردوگاه جبالیا'},\n",
              "     {'type': 'POST', 'entity': 'رئیس جمهور'},\n",
              "     {'type': 'ORG', 'entity': 'اسرائیل'},\n",
              "     {'type': 'NORP', 'entity': 'انصارالله'}]},\n",
              "   {'body': ['طلا', 'توپ', 'مهر', 'مس', 'لیونل', 'سال'],\n",
              "    'image_title_url': 'https://cdn.donya-e-eqtesad.com/thumbnail/SHbra1UapD67/QHn8O9nsSzT8qCU7RegsN6Pbb5v74eEtbKeSOh05RaaO1uBABR5hakt7TZyzEhnm/%D9%84%DB%8C%D9%88%D9%86%D9%84%2B%D9%85%D8%B3%DB%8C%2B%D8%AA%D9%88%D9%BE%2B%D8%B7%D9%84%D8%A7%2B%DB%B2%DB%B0%DB%B2%DB%B3.jpg',\n",
              "    'language': 'fa',\n",
              "    'source': 'روزنامه دنیای اقتصاد',\n",
              "    'title': 'لحظه اهدای توپ طلا به مسی + فیلم',\n",
              "    'date_published': 1698708188,\n",
              "    'uid': 'c6cd8890cbebb4e84c66fde5b',\n",
              "    'url': 'https://donya-e-eqtesad.com/بخش-%D8%B3%D8%A7%DB%8C%D8%AA-%D8%AE%D9%88%D8%A7%D9%86-62/4015807-%D9%84%D8%AD%D8%B8%D9%87-%D8%A7%D9%87%D8%AF%D8%A7%DB%8C-%D8%AA%D9%88%D9%BE-%D8%B7%D9%84%D8%A7-%D8%A8%D9%87-%D9%85%D8%B3%DB%8C-%D9%81%DB%8C%D9%84%D9%85',\n",
              "    'crawler_timestamp': 1698708400,\n",
              "    'ingestor_timestamp': 1698723146,\n",
              "    'summary': 'توپ طلای سال 2023 به لیونل مسی رسید.',\n",
              "    'hostname': 'donya-e-eqtesad.com',\n",
              "    'parser_categories': ['سایت خوان دنیای اقتصاد'],\n",
              "    'keywords': ['توپ طلای سال 2023',\n",
              "     'سالن تئاتر شتله پاریس',\n",
              "     'مراسم توپ طلا',\n",
              "     'توپ طلا'],\n",
              "    'parser_keyword': ['لیونل مسی', 'توپ طلا 2023'],\n",
              "    'author': 'سایت خوان دنیای اقتصاد',\n",
              "    'processed_body': 'مهر : توپ طلای سال ۲۰۲۳ به لیونل مسی رسید.\\nمراسم توپ طلا در سالن تئاتر شتله پاریس در فرانسه برگزار شد و لیونل مسی، فوق ستاره آرژانتینی توانست بار دیگر ارزشمندترین جایزه فردی دنیای فوتبال را کسب کند.\\nبخش\\n[\\nسایتخوان،\\n](/بخش-سایت-خوان-62)\\nصرفا بازتابدهنده اخبار رسانههای رسمی کشور است.',\n",
              "    'images_url': [],\n",
              "    'categories': ['economy'],\n",
              "    'ner_tags': [{'type': 'DATE', 'entity': 'سال 2023'},\n",
              "     {'type': 'PER', 'entity': 'لیونل مسی'},\n",
              "     {'type': 'ORG', 'entity': 'مهر'},\n",
              "     {'type': 'ORG', 'entity': 'توپ'},\n",
              "     {'type': 'DATE', 'entity': 'سال ۲۰۲۳'},\n",
              "     {'type': 'PER', 'entity': 'لیونل مسی'},\n",
              "     {'type': 'EVE', 'entity': 'مراسم توپ طلا'},\n",
              "     {'type': 'FAC', 'entity': 'سالن تئاتر شتله پاریس'},\n",
              "     {'type': 'GPE', 'entity': 'فرانسه'},\n",
              "     {'type': 'PER', 'entity': 'لیونل مسی'},\n",
              "     {'type': 'POST', 'entity': 'فوق'},\n",
              "     {'type': 'NORP', 'entity': 'آرژانتینی'},\n",
              "     {'type': 'ORG', 'entity': 'رسانههای رسمی کشور'}]},\n",
              "   {'body': ['حقوق', 'افزایش', 'آینده', 'درصدی', 'کارمند', 'احتمال', 'سال'],\n",
              "    'image_title_url': 'https://cdn.yjc.ir/files/fa/news/1402/8/10/18489920_250.jpg',\n",
              "    'language': 'fa',\n",
              "    'source': 'خبرگزاری باشگاه خبرنگاران | آخرین اخبار ایران و جهان | YJC',\n",
              "    'title': 'دیدار رهبر انقلاب با جمعی از دانش\\u200cآموزان و دانشجویان در آستانه ۱۳ آبان',\n",
              "    'date_published': 1698807716,\n",
              "    'uid': 'd3642a4989e4e5c00979a2f91',\n",
              "    'url': 'http://www.yjc.ir/fa/news/8586247',\n",
              "    'crawler_timestamp': 1698808057,\n",
              "    'ingestor_timestamp': 1698822086,\n",
              "    'summary': 'جمعی از دانش\\u200cآموزان و دانشجویان سراسر کشور در آستانه ۱۳ آبان با رهبر انقلاب اسلامی دیدار خواهند کرد.',\n",
              "    'hostname': 'yjc.ir',\n",
              "    'parser_categories': ['امام و رهبری'],\n",
              "    'keywords': ['رهبر انقلاب اسلامی', 'رهبر انقلاب', 'خامنه\\u200cای'],\n",
              "    'parser_keyword': ['رهبر انقلاب', '13 آبان'],\n",
              "    'author': 'خبرگزاری باشگاه خبرنگاران; آخرین اخبار ایران و جهان; YJC',\n",
              "    'processed_body': 'در آستانه سیزدهم آبان\\u200cماه، روز دانش\\u200cآموز و روز ملی مبارزه با استکبار، جمعی از دانش\\u200cآموزان و دانشجویان سراسر کشور با حضور در حسینیه امام خمینی (ره) با حضرت آیت\\u200cالله خامنه\\u200cای رهبر انقلاب اسلامی دیدار خواهند کرد.',\n",
              "    'images_url': [],\n",
              "    'categories': ['economy'],\n",
              "    'ner_tags': [{'type': 'POST', 'entity': 'رهبر انقلاب'},\n",
              "     {'type': 'JOB', 'entity': 'دانش\\u200cآموزان'},\n",
              "     {'type': 'JOB', 'entity': 'دانشجویان'},\n",
              "     {'type': 'DATE', 'entity': '۱۳ آبان'},\n",
              "     {'type': 'JOB', 'entity': 'دانش\\u200cآموزان'},\n",
              "     {'type': 'JOB', 'entity': 'دانشجویان سراسر کشور'},\n",
              "     {'type': 'DATE', 'entity': '۱۳'},\n",
              "     {'type': 'POST', 'entity': 'رهبر انقلاب اسلامی'},\n",
              "     {'type': 'EVE', 'entity': 'روز'},\n",
              "     {'type': 'JOB', 'entity': 'دانش\\u200cآموز'},\n",
              "     {'type': 'EVE', 'entity': 'روز ملی'},\n",
              "     {'type': 'JOB', 'entity': 'دانش\\u200cآموزان'},\n",
              "     {'type': 'JOB', 'entity': 'دانشجویان'},\n",
              "     {'type': 'FAC', 'entity': 'حسینیه امام خمینی ( ره )'},\n",
              "     {'type': 'PER', 'entity': 'خامنه\\u200cای'},\n",
              "     {'type': 'POST', 'entity': 'رهبر انقلاب اسلامی'}]},\n",
              "   {'body': ['پایان',\n",
              "     'کانال',\n",
              "     'میماند',\n",
              "     'تورم',\n",
              "     'خاندوزی',\n",
              "     'درصد',\n",
              "     'نقطه',\n",
              "     'سال'],\n",
              "    'image_title_url': 'https://cdn.yjc.ir/files/fa/news/1402/6/18/18251782_836.jpg',\n",
              "    'language': 'fa',\n",
              "    'source': 'خبرگزاری باشگاه خبرنگاران | آخرین اخبار ایران و جهان | YJC',\n",
              "    'title': 'قیمت انواع سالاد الویه در بازار',\n",
              "    'date_published': 1694273570,\n",
              "    'uid': '0d0e319aa27d7f4e828745ff6',\n",
              "    'url': 'http://www.yjc.ir/fa/news/8542662',\n",
              "    'crawler_timestamp': 1694273792,\n",
              "    'ingestor_timestamp': 1694291115,\n",
              "    'summary': 'در این خبر به بررسی قیمت انواع سالاد الویه آماده در بازار پرداختیم.',\n",
              "    'hostname': 'yjc.ir',\n",
              "    'parser_categories': ['نبض بازار'],\n",
              "    'keywords': ['سالاد الویه', 'الویه', 'دریچه', 'هیتلر'],\n",
              "    'parser_keyword': ['سالاد الویه رژیمی',\n",
              "     'قیمت سالاد الویه',\n",
              "     'بسته نبض بازار'],\n",
              "    'author': 'خبرگزاری باشگاه خبرنگاران; آخرین اخبار ایران و جهان; YJC',\n",
              "    'processed_body': '[](/fa/news/8542221/دریچه-مرموز-قطب-محل-زندگی-هیتلر-یا-فضاییها)\\nفهرست قیمت انواع سالاد الویه آماده موجود در بازار به شرح زیر است.\\n|نام کالا||قیمت(تومان)|\\n|سالاد الویه همراه با مرغ رباط ۴۵۰ گرم||\\n|\\n۵۲.۲۰۰\\n|\\n|\\nسالاد الویه مرغ نامی نو ۵۰۰ گرم\\n|\\n|\\n۷۹.۰۰۰\\n|\\n|\\nسالاد الویه کالباس فارسی ۲۵۰ گرمی\\n|\\n|\\n۵۱.۰۰۰\\n|سالاد الویه مرغ شامانا ۵۰۰ گرم||\\n|\\n۵۷.۹۰۰\\n|\\n|\\nالویه با مرغ چیکا ۲۰۰ گرم\\n|\\n|\\n۴۶.۰۰۰\\n|\\n|\\nالویه مرغ نامی نو ۲۰۰ گرمی\\n|\\n|\\n۳۸.۰۰۰\\n|\\n|\\nسالاد الویه گیاهی (veg) ۷۰۰ گرمی\\n|\\n|\\n۱۳۹.۹۰۰\\n|\\n|\\nسالاد الویه پرس یک نفره ۳۰۰ گرمی\\n|\\n|\\n۶۵.۰۰۰',\n",
              "    'categories': ['economy'],\n",
              "    'ner_tags': [{'type': 'PER', 'entity': 'هیتلر'},\n",
              "     {'type': 'ORG', 'entity': 'شامانا'},\n",
              "     {'type': 'ORG', 'entity': 'الویه'},\n",
              "     {'type': 'WOA', 'entity': 'سالاد الویه'}],\n",
              "    'cluster_id': 'e9b3246a50de11eeb3294a7a9edc9177'},\n",
              "   {'body': ['پایان',\n",
              "     'کانال',\n",
              "     'میماند',\n",
              "     'تورم',\n",
              "     'خاندوزی',\n",
              "     'درصد',\n",
              "     'نقطه',\n",
              "     'سال'],\n",
              "    'image_title_url': 'https://cdn.yjc.ir/files/fa/news/1402/6/14/18235264_638.jpg',\n",
              "    'language': 'fa',\n",
              "    'source': 'خبرگزاری باشگاه خبرنگاران | آخرین اخبار ایران و جهان | YJC',\n",
              "    'title': 'عدس را در بازار چند بخریم؟',\n",
              "    'date_published': 1694273805,\n",
              "    'uid': '605142d0604a17d5430e5e2cd',\n",
              "    'url': 'http://www.yjc.ir/fa/news/8539833',\n",
              "    'crawler_timestamp': 1694274153,\n",
              "    'ingestor_timestamp': 1694291115,\n",
              "    'cluster_id': 'b65983d44ff311ee8e1246c3bf96b467',\n",
              "    'summary': 'در این گزارش به بررسی قیمت انواع عدس در بازار پرداخته ایم.',\n",
              "    'hostname': 'yjc.ir',\n",
              "    'parser_categories': ['نبض بازار'],\n",
              "    'keywords': ['دلبستو', 'عدس', 'گلستان'],\n",
              "    'parser_keyword': ['عدس ریز',\n",
              "     'قیمت عدس',\n",
              "     'خواص عدس',\n",
              "     'اقلام اساسی',\n",
              "     'بسته نبض بازار',\n",
              "     'قیمت حبوبات'],\n",
              "    'author': 'خبرگزاری باشگاه خبرنگاران; آخرین اخبار ایران و جهان; YJC',\n",
              "    'processed_body': '[](/fa/news/8541856/گزارش-تولیدی-ترجمه)\\nقیمت انواع چادر مشکی در بازار به شرح زیر است:\\n|\\n|\\nنام کالا\\n|\\n|\\nقیمت(تومان)\\n|\\n|\\nعدس همدل - ۹۰۰ گرم\\n|\\n|\\n۸۹,۰۰۰\\n|\\n|\\nعدس گلستان مقدار ۹۰۰ گرم\\n|\\n|\\n۹۴,۹۰۰\\n|\\n|\\nعدس ریز همدل - ۹۰۰ گرم\\n|\\n|\\n۸۹,۰۰۰\\n|\\n|\\nعدس شاهسوند - ۹۰۰ گرم\\n|\\n|\\n۹۹,۲۰۰\\n|\\n|\\nعدس کانادایی دِلبِستو - ۹۰۰ گرم\\n|\\n|\\n۶۵,۸۰۰\\n|\\n|\\nعدس چاپار مقدار ۹۰۰ گرم\\n|\\n|\\n۸۱,۹۰۰',\n",
              "    'categories': ['economy'],\n",
              "    'ner_tags': [{'type': 'GPE', 'entity': 'گلستان'},\n",
              "     {'type': 'DATE', 'entity': '۹۴ , ۹۰۰'},\n",
              "     {'type': 'PER', 'entity': 'عدس شاهسوند'},\n",
              "     {'type': 'NORP', 'entity': 'کانادایی'},\n",
              "     {'type': 'ORG', 'entity': 'عدس چاپار'}]},\n",
              "   {'body': ['پایان',\n",
              "     'کانال',\n",
              "     'میماند',\n",
              "     'تورم',\n",
              "     'خاندوزی',\n",
              "     'درصد',\n",
              "     'نقطه',\n",
              "     'سال'],\n",
              "    'image_title_url': 'https://cdn.yjc.ir/files/fa/news/1402/6/19/18253843_973.jpg',\n",
              "    'language': 'fa',\n",
              "    'source': 'خبرگزاری باشگاه خبرنگاران | آخرین اخبار ایران و جهان | YJC',\n",
              "    'title': 'افت هزار و ۷۹۸ واحدی شاخص کل بورس',\n",
              "    'date_published': 1694312198,\n",
              "    'uid': '24640e6cb78dd27ff2a2eb879',\n",
              "    'url': 'http://www.yjc.ir/fa/news/8543030',\n",
              "    'crawler_timestamp': 1694312734,\n",
              "    'ingestor_timestamp': 1694326975,\n",
              "    'summary': 'شاخص کل بورس با افت هزار و ۷۹۸\\xa0 \\xa0واحدی در ارتفاع ۲ میلیون و ۱۲۷ هزار و ۸۱۰ واحدی قرار گرفت.',\n",
              "    'hostname': 'yjc.ir',\n",
              "    'parser_categories': ['بورس'],\n",
              "    'keywords': ['بورس', 'بورسشاخص'],\n",
              "    'parser_keyword': ['بازار سرمایه', 'بورس ایران'],\n",
              "    'author': 'خبرگزاری باشگاه خبرنگاران; آخرین اخبار ایران و جهان; YJC',\n",
              "    'processed_body': 'در آغاز معاملات بازار سرمایه صورت گرفت\\u200e\\u200e\\u200e؛\\nامروز یکشنبه (۱۹ شهریور) شاخص کل بورس با افت هزار و ۷۹۸ واحدی در ارتفاع ۲ میلیون و ۱۲۷ هزار و ۸۱۰ واحدی قرار گرفت.\\n\\nشاخص کل هم وزن نیز با افت ۴۰۰ واحدی در ارتفاع ۷۱۶ هزار و ۴۱۴ واحدی ایستاد.',\n",
              "    'categories': ['economy'],\n",
              "    'ner_tags': [{'type': 'ORG', 'entity': 'بورس'},\n",
              "     {'type': 'ORG', 'entity': 'بورس'},\n",
              "     {'type': 'ORG', 'entity': 'بورس'}]},\n",
              "   {'body': ['پایان',\n",
              "     'کانال',\n",
              "     'میماند',\n",
              "     'تورم',\n",
              "     'خاندوزی',\n",
              "     'درصد',\n",
              "     'نقطه',\n",
              "     'سال'],\n",
              "    'image_title_url': 'https://cdn.yjc.ir/files/fa/news/1402/6/18/18251790_952.jpg',\n",
              "    'language': 'fa',\n",
              "    'source': 'خبرگزاری باشگاه خبرنگاران | آخرین اخبار ایران و جهان | YJC',\n",
              "    'title': 'قیمت انواع نبات در بازار ۱۹ شهریور',\n",
              "    'date_published': 1694323686,\n",
              "    'uid': '8c5c97737fddf046bfa855e7b',\n",
              "    'url': 'http://www.yjc.ir/fa/news/8542665',\n",
              "    'crawler_timestamp': 1694324109,\n",
              "    'ingestor_timestamp': 1694340137,\n",
              "    'summary': 'در این گزارش به بررسی قیمت انواع نبات در بازار پرداختیم.',\n",
              "    'hostname': 'yjc.ir',\n",
              "    'parser_categories': ['نبض بازار'],\n",
              "    'keywords': ['عطار'],\n",
              "    'parser_keyword': ['انواع نبات',\n",
              "     'شاخه نبات',\n",
              "     'بسته نبض بازار',\n",
              "     'نبات زعفرانی'],\n",
              "    'author': 'خبرگزاری باشگاه خبرنگاران; آخرین اخبار ایران و جهان; YJC',\n",
              "    'processed_body': '[](/fa/news/8542102/گروگانگیری-ساختگی-برای-فرار-از-خانه-شوهر)\\nفهرست قیمت برخی از انواع نبات موجود در بازار به شرح زیر است.\\n|نام کالا||قیمت (تومان)|\\n|\\n|\\nنبات زعفرانی سحر خیز - ۷۰۰ گرم\\n|۸۴,۵۰۰|\\n|نبات چوبی ساده سحرخیز مقدار ۳۰۰ گرم||۸۷,۵۰۰|\\n|\\n|\\nنبات فله چوبی زعفرانی - کارتن ۷ کیلویی\\n|۵۰۰,۰۰۰|\\n|نبات شاخه ای زعفرانی اعلا ۴۵۰ گرمی||۴۴,۵۰۰|\\n|نبات چوبدار زعفرانی و ساده فله ۱۰۰۰ گرم||۲۱۵,۰۰۰|\\n|نبات زعفرانی اعلا ۴۰۰ گرم آقای عطار||۹۲,۸۰۰|',\n",
              "    'categories': ['economy'],\n",
              "    'ner_tags': [{'type': 'DATE', 'entity': '۱۹ شهریور'},\n",
              "     {'type': 'PER', 'entity': 'عطار'}],\n",
              "    'cluster_id': 'b65983d44ff311ee8e1246c3bf96b467'},\n",
              "   {'body': ['پایان',\n",
              "     'کانال',\n",
              "     'میماند',\n",
              "     'تورم',\n",
              "     'خاندوزی',\n",
              "     'درصد',\n",
              "     'نقطه',\n",
              "     'سال'],\n",
              "    'image_title_url': 'https://cdn.yjc.ir/files/fa/news/1402/6/19/18255175_170.jpg',\n",
              "    'language': 'fa',\n",
              "    'source': 'خبرگزاری باشگاه خبرنگاران | آخرین اخبار ایران و جهان | YJC',\n",
              "    'title': 'قیمت گوشت گوسفند در بازار',\n",
              "    'date_published': 1694332831,\n",
              "    'uid': '69bf372e4d7655bd45f4056bc',\n",
              "    'url': 'http://www.yjc.ir/fa/news/8543293',\n",
              "    'crawler_timestamp': 1694333406,\n",
              "    'ingestor_timestamp': 1694347242,\n",
              "    'summary': 'در این خبر به بررسی قیمت انواع گوشت گوسفندی در بازار پرداختیم.',\n",
              "    'hostname': 'yjc.ir',\n",
              "    'parser_categories': ['نبض بازار'],\n",
              "    'keywords': ['گوشت گوسفندی', 'رالاگ'],\n",
              "    'parser_keyword': ['قیمت گوشت', 'بسته نبض بازار', 'گوشت قرمز'],\n",
              "    'author': 'خبرگزاری باشگاه خبرنگاران; آخرین اخبار ایران و جهان; YJC',\n",
              "    'processed_body': '[](/fa/news/8541856/گزارش-تولیدی-ترجمه)\\nفهرست قیمت برخی از انواع گوشت گوسفندی موجود در بازار به شرح زیر است.\\n|نام کالا||قیمت (تومان)|\\n|قلوه گاه گوسفندی - ۱ کیلوگرم||۴۲۰,۰۰۰|\\n|\\n|\\nگوشت گردن ممتاز گوسفندی رالاگ ۱ کیلوگرمی\\n|۳۴۴,۰۰۰|\\n|\\n|\\nگوشت خورشتی گوسفندی مهیا پروتئین ۱کیلوگرمی\\n|۵۳۳,۰۰۰|\\n|\\n|\\nنیم شقه ران ممتاز گوسفندی رالاگ ۴ کیلوگرمی\\n|۶۲۹,۰۰۰|\\n|\\n|\\nران گوسفندی - ۱ کیلوگرم\\n|۵۸۴,۰۰۰|\\n|گوشت راسته بدون استخوان گوسفندی ۱ کیلوگرمی||۹۱۰,۰۰۰|\\n|\\n|\\nگوشت خورشتی گوسفندی ۵۰۰ گرمی\\n|۳۲۵,۰۰۰|\\n|\\n|\\nگوشت لخم ران شترمرغ\\n|۶۱۰,۰۰۰|\\n|\\n|\\nگوشت آبگوشتی گوسفندی\\n|۴۸۰,۰۰۰|\\n|\\n|\\nگوشت راسته شاندیزی ( گوسفندی )\\n|۶۳۰,۰۰۰|',\n",
              "    'categories': ['economy'],\n",
              "    'ner_tags': [],\n",
              "    'cluster_id': 'ad207c42514b11eeb3294a7a9edc9177'},\n",
              "   {'body': ['آغاز',\n",
              "     'آنلاین',\n",
              "     'پاییز',\n",
              "     'گذشته',\n",
              "     'بارندگی',\n",
              "     'کشور',\n",
              "     'همشهری',\n",
              "     'سال'],\n",
              "    'image_title_url': 'https://cdn.donya-e-eqtesad.com/thumbnail/ZlYcmSkMsGwm/QHn8O9nsSzT8qCU7RegsN6Pbb5v74eEtbKeSOh05RaZX_Jba3R2TsUt7TZyzEhnm/21gQthzQ0STo.jpg',\n",
              "    'language': 'fa',\n",
              "    'source': 'روزنامه دنیای اقتصاد',\n",
              "    'title': 'کاهش دما به زیر 5 درجه / هواشناسی هشدار داد',\n",
              "    'date_published': 1695918940,\n",
              "    'uid': '142e307784ff71e9d41874849',\n",
              "    'url': 'https://donya-e-eqtesad.com/بخش-%D8%B3%D8%A7%DB%8C%D8%AA-%D8%AE%D9%88%D8%A7%D9%86-62/4005947-%DA%A9%D8%A7%D9%87%D8%B4-%D8%AF%D9%85%D8%A7-%D8%A8%D9%87-%D8%B2%DB%8C%D8%B1-%D8%AF%D8%B1%D8%AC%D9%87-%D9%87%D9%88%D8%A7%D8%B4%D9%86%D8%A7%D8%B3%DB%8C-%D9%87%D8%B4%D8%AF%D8%A7%D8%B1-%D8%AF%D8%A7%D8%AF',\n",
              "    'crawler_timestamp': 1695919014,\n",
              "    'ingestor_timestamp': 1695939445,\n",
              "    'summary': 'بارندگی\\u200cهای پاییز امسال در کشور زودتر از سال\\u200cهای گذشته آغاز می\\u200cشود.',\n",
              "    'hostname': 'donya-e-eqtesad.com',\n",
              "    'parser_categories': ['سایت خوان دنیای اقتصاد'],\n",
              "    'keywords': ['کارشناس سازمان هواشناسی', 'خراسان جنوبی'],\n",
              "    'parser_keyword': ['پیش بینی هواشناسی', 'وزش باد شدید'],\n",
              "    'author': 'سایت خوان دنیای اقتصاد',\n",
              "    'processed_body': 'کارشناس سازمان هواشناسی گفت: ممکن است دما در برخی از مناطق کشور از جمله شمال غرب،\\u200c شمال شرق و در مناطقی از خراسان جنوبی و ... به زیر ۵ درجه کاهش می\\u200cیابد.',\n",
              "    'categories': ['economy'],\n",
              "    'ner_tags': [{'type': 'POST', 'entity': 'کارشناس سازمان هواشناسی'},\n",
              "     {'type': 'GPE', 'entity': 'خراسان جنوبی'}]},\n",
              "   {'body': ['رژیم', 'آتش', 'انزجار', 'افروخته', 'صهیونیست', 'سال'],\n",
              "    'image_title_url': 'https://cdn.yjc.ir/files/fa/news/1402/7/16/18379166_614.jpg',\n",
              "    'language': 'fa',\n",
              "    'source': 'خبرگزاری باشگاه خبرنگاران | آخرین اخبار ایران و جهان | YJC',\n",
              "    'title': 'حمایت مردم قزوین از مقاومت فلسطین+ فیلم',\n",
              "    'date_published': 1696702758,\n",
              "    'uid': '63c6e9a66b8b9efa6c25ad61f',\n",
              "    'url': 'http://www.yjc.ir/fa/news/8565964',\n",
              "    'crawler_timestamp': 1696703042,\n",
              "    'ingestor_timestamp': 1696717496,\n",
              "    'summary': 'مردم قزوین هم، همچون دیگر هموطنان پیروزی مقاومت علیه اشغالگران را جشن گرفتند.',\n",
              "    'hostname': 'yjc.ir',\n",
              "    'parser_categories': ['قزوین'],\n",
              "    'keywords': ['جبهه مقاومت حماس',\n",
              "     'طوفان الاقصی',\n",
              "     'مقاومت فلسطین',\n",
              "     'پیروزی مقاومت'],\n",
              "    'parser_keyword': ['حمایت مردم',\n",
              "     'جشن و سرور',\n",
              "     'مقاومت فلسطین',\n",
              "     'المان مینودر قزوین',\n",
              "     'جبهه مقاومت'],\n",
              "    'author': 'خبرگزاری باشگاه خبرنگاران; آخرین اخبار ایران و جهان; YJC',\n",
              "    'processed_body': 'مردم قزوین به مناسبت پیروزی نیرو\\u200cهای مقاومت فلسطین در عملیات «طوفان الاقصی» به جشن و سرور پرداختند.\\n\\nبه مناسبت پیروزی رزمندگان جبهه مقاومت حماس، المان مینودر قزوین به جمله زیبایی القدس لنا مزین شد.',\n",
              "    'categories': ['economy'],\n",
              "    'ner_tags': [{'type': 'GPE', 'entity': 'قزوین'},\n",
              "     {'type': 'NORP', 'entity': 'مقاومت فلسطین+'},\n",
              "     {'type': 'GPE', 'entity': 'قزوین'},\n",
              "     {'type': 'GPE', 'entity': 'قزوین'},\n",
              "     {'type': 'EVE', 'entity': 'عملیات « طوفان الاقصی'},\n",
              "     {'type': 'NORP', 'entity': 'جبهه مقاومت حماس'},\n",
              "     {'type': 'GPE', 'entity': 'المان'},\n",
              "     {'type': 'ORG', 'entity': 'مینودر'},\n",
              "     {'type': 'GPE', 'entity': 'قزوین'}]}]),\n",
              " ('کشور',\n",
              "  [{'body': ['وزیر', 'یزدانشهر', 'درجه', 'شهردار', 'ارتقاء', 'دستور', 'کشور'],\n",
              "    'image_title_url': 'https://cdn.yjc.ir/files/fa/news/1402/7/27/18435446_222.jpg',\n",
              "    'language': 'fa',\n",
              "    'source': 'خبرگزاری باشگاه خبرنگاران | آخرین اخبار ایران و جهان | YJC',\n",
              "    'title': 'کارگاه\\u200cهای ضایعاتی غیرمجاز پلمب می شوند',\n",
              "    'date_published': 1697720917,\n",
              "    'uid': '24ed39fcfc875cab92bacd9e9',\n",
              "    'url': 'http://www.yjc.ir/fa/news/8576213',\n",
              "    'crawler_timestamp': 1697721132,\n",
              "    'ingestor_timestamp': 1697735176,\n",
              "    'summary': 'مدیرعامل سازمان ساماندهی مشاغل شهری و فرآورده\\u200cهای کشاورزی شهرداری کرمان، از پلمب کارگاه\\u200cهای غیرمجاز در محدودۀ شهرکرمان با همکاری نیروی انتظامی خبر داد.',\n",
              "    'hostname': 'yjc.ir',\n",
              "    'parser_categories': ['کرمان'],\n",
              "    'keywords': ['کارگاه\\u200cهای ضایعاتی غیرمجاز',\n",
              "     'کارگاه\\u200cهای ضایعاتی غیرمجاز ساماندهی مشاغل شهری و فرآورده\\u200cهای کشاورزی',\n",
              "     'امیر هاشمی',\n",
              "     'نیروهای انتظامی'],\n",
              "    'parser_keyword': ['پلمب شد', 'کارگاه های ضایعاتی'],\n",
              "    'author': 'خبرگزاری باشگاه خبرنگاران; آخرین اخبار ایران و جهان; YJC',\n",
              "    'processed_body': 'امیر هاشمی گفت: آن\\u200cدسته از صنف\\u200cهای آلاینده\\u200cای که در معابر، سدمعبر می\\u200cکنند نیز، در کنار کارگاه\\u200cهای ضایعاتی غیرمجاز در کرمان، با همکاری نیروهای انتظامی، پلمب، جریمه و سپس از سطح شهر جمع\\u200cآوری می\\u200cشوند.',\n",
              "    'images_url': [],\n",
              "    'categories': ['economy'],\n",
              "    'ner_tags': [{'type': 'POST',\n",
              "      'entity': 'مدیرعامل سازمان ساماندهی مشاغل شهری و فرآورده\\u200cهای کشاورزی شهرداری کرمان'},\n",
              "     {'type': 'ORG', 'entity': 'نیروی انتظامی'},\n",
              "     {'type': 'PER', 'entity': 'امیر هاشمی'},\n",
              "     {'type': 'FAC', 'entity': 'کارگاه\\u200cهای ضایعاتی غیرمجاز'},\n",
              "     {'type': 'GPE', 'entity': 'کرمان'}]},\n",
              "   {'body': ['وزیر', 'آرمیتا', 'ماجرا', 'گراوند', 'کشور', 'واکنش'],\n",
              "    'image_title_url': 'https://cdn.yjc.ir/files/fa/news/1402/7/17/18388014_598.jpeg',\n",
              "    'language': 'fa',\n",
              "    'source': 'خبرگزاری باشگاه خبرنگاران | آخرین اخبار ایران و جهان | YJC',\n",
              "    'title': 'صفحه نخست روزنامه\\u200cها - سه شنبه ۱۸ مهر',\n",
              "    'date_published': 1696892135,\n",
              "    'uid': 'ee40dd51efdee000772dd8c2b',\n",
              "    'url': 'http://www.yjc.ir/fa/news/8567575',\n",
              "    'crawler_timestamp': 1696892444,\n",
              "    'ingestor_timestamp': 1696907008,\n",
              "    'summary': 'روزنامه\\u200cهای امروز به موضوعاتی نظیر درماندگی صهیونیست\\u200cها از رویارویی با مقاومت فلسطین و کاهش وزن اقتصادی دولت پرداخته\\u200cاند.',\n",
              "    'hostname': 'yjc.ir',\n",
              "    'parser_categories': ['احزاب و تشکل\\u200cها'],\n",
              "    'keywords': ['رژیم صهیونیستی', 'مقاومت فلسطین', 'البرز'],\n",
              "    'parser_keyword': ['روزنامه ها', 'صفحه نخست روزنامه ها'],\n",
              "    'author': 'خبرگزاری باشگاه خبرنگاران; آخرین اخبار ایران و جهان; YJC',\n",
              "    'processed_body': 'آمادگی ۳۰۰ هزار رزمنده فلسطینی برای ورود به جنگ با رژیم صهیونیستی، کاهش وزن اقتصادی دولت به نفع مردم و ساخت ۴۰ هزار مسکن ۲۵ متری در تهران و البرز از عناوین روزنامه\\u200cهای امروز هستند.',\n",
              "    'categories': ['politics'],\n",
              "    'ner_tags': [{'type': 'DATE', 'entity': '۱۸ مهر'},\n",
              "     {'type': 'NORP', 'entity': 'صهیونیست\\u200cها'},\n",
              "     {'type': 'NORP', 'entity': 'مقاومت فلسطین'},\n",
              "     {'type': 'ORG', 'entity': 'دولت'},\n",
              "     {'type': 'NORP', 'entity': 'فلسطینی'},\n",
              "     {'type': 'ORG', 'entity': 'رژیم صهیونیستی'},\n",
              "     {'type': 'ORG', 'entity': 'دولت'},\n",
              "     {'type': 'GPE', 'entity': 'تهران'},\n",
              "     {'type': 'GPE', 'entity': 'البرز'}]},\n",
              "   {'body': ['وزیر', 'آرمیتا', 'ماجرا', 'گراوند', 'کشور', 'واکنش'],\n",
              "    'image_title_url': 'https://cdn.yjc.ir/files/fa/news/1402/7/19/18395421_150.jpg',\n",
              "    'language': 'fa',\n",
              "    'source': 'خبرگزاری باشگاه خبرنگاران | آخرین اخبار ایران و جهان | YJC',\n",
              "    'title': 'دهک\\u200cبندی یارانه\\u200cها تغییر می\\u200cکند',\n",
              "    'date_published': 1696992232,\n",
              "    'uid': 'f7923863a22ce9f8a116cb224',\n",
              "    'url': 'http://www.yjc.ir/fa/news/8568957',\n",
              "    'crawler_timestamp': 1696992419,\n",
              "    'ingestor_timestamp': 1697007859,\n",
              "    'summary': 'وزیر کار درباره آخرين تغييرات در دهک\\u200cبندی یارانه\\u200cها توضيح داد.',\n",
              "    'hostname': 'yjc.ir',\n",
              "    'parser_categories': ['دولت'],\n",
              "    'keywords': ['معاون رفاه و امور اقتصادی',\n",
              "     'صولت مرتضوی',\n",
              "     'وزیر کار',\n",
              "     'راهور'],\n",
              "    'parser_keyword': ['یارانه', 'وزارت کار'],\n",
              "    'author': 'خبرگزاری باشگاه خبرنگاران; آخرین اخبار ایران و جهان; YJC',\n",
              "    'processed_body': 'وزیر کار در جمع خبرنگاران:\\n\\nسید صولت مرتضوی وزیر کار در جمع خبرنگاران گفت: دهک\\u200cبندی یارانه\\u200cها تغییر می\\u200cکند. دهک شش و هفت نیز اضافه شده و از هفته بعد اجرایی می\\u200cشود.\\n\\nپیش از این عسگریان معاون رفاه و امور اقتصادی وزیر تعاون، کار و رفاه اجتماعی گفته بود: سقف پرداختی یارانه ٢٧ هزار میلیارد تومان است. همه سامانه\\u200cهای بانکی، راهور و سایر نهاد\\u200cها به سامانه حمایت وصل هستند و داده\\u200cها به روز رسانی می\\u200cشود. طبق قانون باید هر ۶ ماه یک بار دهک بندی یارانه بگیران بررسی شود.',\n",
              "    'categories': ['economy'],\n",
              "    'ner_tags': [{'type': 'POST', 'entity': 'وزیر کار'},\n",
              "     {'type': 'POST', 'entity': 'وزیر کار'},\n",
              "     {'type': 'JOB', 'entity': 'خبرنگاران'},\n",
              "     {'type': 'PER', 'entity': 'صولت مرتضوی'},\n",
              "     {'type': 'POST', 'entity': 'وزیر کار'},\n",
              "     {'type': 'JOB', 'entity': 'خبرنگاران'},\n",
              "     {'type': 'PER', 'entity': 'عسگریان'},\n",
              "     {'type': 'POST', 'entity': 'معاون رفاه و امور اقتصادی'},\n",
              "     {'type': 'POST', 'entity': 'وزیر تعاون ، کار و رفاه اجتماعی'}]},\n",
              "   {'body': ['عزا', 'رژیم', 'جنایت', 'اعلام', 'صهیونیست', 'کشور', 'پی'],\n",
              "    'image_title_url': 'https://cdn.yjc.ir/files/fa/news/1402/7/27/18432183_289.jfif',\n",
              "    'language': 'fa',\n",
              "    'source': 'خبرگزاری باشگاه خبرنگاران | آخرین اخبار ایران و جهان | YJC',\n",
              "    'title': 'آغاز نشست خبری رییس ستاد انتخابات کشور',\n",
              "    'date_published': 1697677553,\n",
              "    'uid': 'eacc18da0000304fdd50f3cc9',\n",
              "    'url': 'http://www.yjc.ir/fa/news/8575616',\n",
              "    'crawler_timestamp': 1697677955,\n",
              "    'ingestor_timestamp': 1697691908,\n",
              "    'summary': 'شاهچراغی آغاز ثبت\\u200cنام داوطلبان انتخابات مجلس دوازدهم را اعلام كرد.',\n",
              "    'hostname': 'yjc.ir',\n",
              "    'parser_categories': ['دولت'],\n",
              "    'keywords': ['ثبت\\u200cنام داوطلبان انتخابات مجلس دوازدهم',\n",
              "     'رییس ستاد انتخابات کشور',\n",
              "     'نامزد\\u200cهای نمایندگی مجلس',\n",
              "     'شاهچراغی'],\n",
              "    'parser_keyword': ['مجلس دوازدهم', 'انتخابات'],\n",
              "    'author': 'خبرگزاری باشگاه خبرنگاران; آخرین اخبار ایران و جهان; YJC',\n",
              "    'processed_body': 'رییس ستاد انتخابات کشور خبر داد؛\\n\\nسید محمدتقی شاهچراغی رییس ستاد انتخابات کشور در جمع خبرنگاران گفت: آغاز ثبت نام نامزد\\u200cهای نمایندگی مجلس را اعلام می\\u200cکنم که به مدت هفت روز به صورت غیرحضوری خواهد بود.\\n\\nوی ادامه داد: کسانی که در پیش ثبت\\u200cنام، ثبت\\u200cنام کردند می\\u200cتوانند وارد سامانه شوند و اطلاعات خود را ویرایش کنند. قبلا هم اعلام شد که با دقت این اطلاعات ویرایش شود. ثبت نام از ساعت هشت صبح تا شش بعد از ظهر امروز آغاز شد و تا چهارشنبه سوم آبان این روند ادامه دارد.\\n\\nشاهچراغی افزود: امکان تمدید زمان ثبت نام وجود ندارد؛ امیدوارم حضور خوب داوطلبان استمرار داشته باشد و هر کس که باور به تاثیرگذاری دارد فرصت ثبت نام برایش وجود دارد.',\n",
              "    'images_url': [],\n",
              "    'categories': ['economy'],\n",
              "    'ner_tags': [{'type': 'EVE', 'entity': 'انتخابات مجلس دوازدهم'},\n",
              "     {'type': 'PER', 'entity': 'شاهچراغی'},\n",
              "     {'type': 'EVE', 'entity': 'انتخابات مجلس دوازدهم'},\n",
              "     {'type': 'POST', 'entity': 'رییس ستاد انتخابات کشور'},\n",
              "     {'type': 'PER', 'entity': 'محمدتقی شاهچراغی'},\n",
              "     {'type': 'POST', 'entity': 'رییس ستاد انتخابات کشور'},\n",
              "     {'type': 'JOB', 'entity': 'خبرنگاران'},\n",
              "     {'type': 'POST', 'entity': 'نامزد\\u200cهای نمایندگی مجلس'},\n",
              "     {'type': 'PER', 'entity': 'شاهچراغی'}]},\n",
              "   {'body': ['وزیر', 'آرمیتا', 'ماجرا', 'گراوند', 'کشور', 'واکنش'],\n",
              "    'image_title_url': 'https://cdn.yjc.ir/files/fa/news/1402/7/19/18395905_661.jpg',\n",
              "    'language': 'fa',\n",
              "    'source': 'خبرگزاری باشگاه خبرنگاران | آخرین اخبار ایران و جهان | YJC',\n",
              "    'title': 'شیخ زکزاکی وارد ایران شد',\n",
              "    'date_published': 1696997594,\n",
              "    'uid': '0dd455d7a8c289c820071362b',\n",
              "    'url': 'http://www.yjc.ir/fa/news/8569052',\n",
              "    'crawler_timestamp': 1696997638,\n",
              "    'ingestor_timestamp': 1697011284,\n",
              "    'summary': 'شیخ زکزاکی رهبر شیعیان نیجریه دقایقی پیش وارد تهران شد.',\n",
              "    'hostname': 'yjc.ir',\n",
              "    'parser_categories': ['سیاست خارجی'],\n",
              "    'keywords': ['رهبر شیعیان نیجریه', 'شیخ زکزاکی'],\n",
              "    'parser_keyword': ['رهبر شیعیان نیجریه', 'ایران'],\n",
              "    'author': 'خبرگزاری باشگاه خبرنگاران; آخرین اخبار ایران و جهان; YJC',\n",
              "    'processed_body': '\\\\n\\\\u0634\\\\u06cc\\\\u062e \\\\u0627\\\\u0628\\\\u0631\\\\u0627\\\\u0647\\\\u06cc\\\\u0645 \\\\u0632\\\\u06a9\\\\u0632\\\\u0627\\\\u06a9\\\\u06cc \\\\u0631\\\\u0647\\\\u0628\\\\u0631 \\\\u0634\\\\u06cc\\\\u0639\\\\u06cc\\\\u0627\\\\u0646 \\\\u0646\\\\u06cc\\\\u062c\\\\u0631\\\\u06cc\\\\u0647 \\\\u062f\\\\u0631 \\\\u062f\\\\u0648\\\\u0645\\\\u06cc\\\\u0646 \\\\u0633\\\\u0641\\\\u0631 \\\\u062e\\\\u0627\\\\u0631\\\\u062c\\\\u06cc \\\\u062e\\\\u0648\\\\u062f \\\\u067e\\\\u0633 \\\\u0627\\\\u0632 \\\\u067e\\\\u0627\\\\u06cc\\\\u0627\\\\u0646 \\\\u062d\\\\u0635\\\\u0631 \\\\u062e\\\\u0627\\\\u0646\\\\u06af\\\\u06cc\\\\u060c \\\\u062f\\\\u0642\\\\u0627\\\\u06cc\\\\u0642\\\\u06cc \\\\u067e\\\\u06cc\\\\u0634 \\\\u0648\\\\u0627\\\\u0631\\\\u062f \\\\u062a\\\\u0647\\\\u0631\\\\u0627\\\\u0646 \\\\u0634\\\\u062f.\\\\n\\\\u0627\\\\u0633\\\\u062a\\\\u0642\\\\u0628\\\\u0627\\\\u0644 \\\\u0645\\\\u0631\\\\u062f\\\\u0645\\\\u06cc \\\\u0627\\\\u0632 \\\\u0631\\\\u0647\\\\u0628\\\\u0631 \\\\u0634\\\\u06cc\\\\u0639\\\\u06cc\\\\u0627\\\\u0646 \\\\u0646\\\\u06cc\\\\u062c\\\\u0631\\\\u06cc\\\\u0647 \\\\u062f\\\\u0631 \\\\u0641\\\\u0631\\\\u0648\\\\u062f\\\\u06af\\\\u0627\\\\u0647 \\\\u0627\\\\u0645\\\\u0627\\\\u0645 \\\\u062e\\\\u0645\\\\u06cc\\\\u0646\\\\u06cc (\\\\u0631\\\\u0647) \\\\u0628\\\\u0631\\\\u06af\\\\u0632\\\\u0627\\\\u0631 \\\\u0634\\\\u062f.\\\\n',\n",
              "    'categories': ['economy'],\n",
              "    'ner_tags': [{'type': 'PER', 'entity': 'شیخ'},\n",
              "     {'type': 'PER', 'entity': 'زکزاکی'},\n",
              "     {'type': 'GPE', 'entity': 'ایران'},\n",
              "     {'type': 'PER', 'entity': 'شیخ زکزاکی'},\n",
              "     {'type': 'POST', 'entity': 'رهبر شیعیان نیجریه'},\n",
              "     {'type': 'GPE', 'entity': 'تهران'}]},\n",
              "   {'body': ['وزیر', 'آرمیتا', 'ماجرا', 'گراوند', 'کشور', 'واکنش'],\n",
              "    'image_title_url': 'https://cdn.yjc.ir/files/fa/news/1402/7/19/18395421_150.jpg',\n",
              "    'language': 'fa',\n",
              "    'source': 'خبرگزاری باشگاه خبرنگاران | آخرین اخبار ایران و جهان | YJC',\n",
              "    'title': 'دهک\\u200cبندی یارانه\\u200cها تغییر می\\u200cکند',\n",
              "    'date_published': 1696992232,\n",
              "    'uid': 'f7923863a22ce9f8a116cb224',\n",
              "    'url': 'http://www.yjc.ir/fa/news/8568957',\n",
              "    'crawler_timestamp': 1696992419,\n",
              "    'ingestor_timestamp': 1697007859,\n",
              "    'summary': 'وزیر کار درباره آخرين تغييرات در دهک\\u200cبندی یارانه\\u200cها توضيح داد.',\n",
              "    'hostname': 'yjc.ir',\n",
              "    'parser_categories': ['دولت'],\n",
              "    'keywords': ['معاون رفاه و امور اقتصادی',\n",
              "     'صولت مرتضوی',\n",
              "     'وزیر کار',\n",
              "     'راهور'],\n",
              "    'parser_keyword': ['یارانه', 'وزارت کار'],\n",
              "    'author': 'خبرگزاری باشگاه خبرنگاران; آخرین اخبار ایران و جهان; YJC',\n",
              "    'processed_body': 'وزیر کار در جمع خبرنگاران:\\n\\nسید صولت مرتضوی وزیر کار در جمع خبرنگاران گفت: دهک\\u200cبندی یارانه\\u200cها تغییر می\\u200cکند. دهک شش و هفت نیز اضافه شده و از هفته بعد اجرایی می\\u200cشود.\\n\\nپیش از این عسگریان معاون رفاه و امور اقتصادی وزیر تعاون، کار و رفاه اجتماعی گفته بود: سقف پرداختی یارانه ٢٧ هزار میلیارد تومان است. همه سامانه\\u200cهای بانکی، راهور و سایر نهاد\\u200cها به سامانه حمایت وصل هستند و داده\\u200cها به روز رسانی می\\u200cشود. طبق قانون باید هر ۶ ماه یک بار دهک بندی یارانه بگیران بررسی شود.',\n",
              "    'categories': ['economy'],\n",
              "    'ner_tags': [{'type': 'POST', 'entity': 'وزیر کار'},\n",
              "     {'type': 'POST', 'entity': 'وزیر کار'},\n",
              "     {'type': 'JOB', 'entity': 'خبرنگاران'},\n",
              "     {'type': 'PER', 'entity': 'صولت مرتضوی'},\n",
              "     {'type': 'POST', 'entity': 'وزیر کار'},\n",
              "     {'type': 'JOB', 'entity': 'خبرنگاران'},\n",
              "     {'type': 'PER', 'entity': 'عسگریان'},\n",
              "     {'type': 'POST', 'entity': 'معاون رفاه و امور اقتصادی'},\n",
              "     {'type': 'POST', 'entity': 'وزیر تعاون ، کار و رفاه اجتماعی'}]},\n",
              "   {'body': ['وزیر', 'آرمیتا', 'ماجرا', 'گراوند', 'کشور', 'واکنش'],\n",
              "    'image_title_url': 'https://cdn.yjc.ir/files/fa/news/1402/7/19/18395905_661.jpg',\n",
              "    'language': 'fa',\n",
              "    'source': 'خبرگزاری باشگاه خبرنگاران | آخرین اخبار ایران و جهان | YJC',\n",
              "    'title': 'شیخ زکزاکی وارد ایران شد',\n",
              "    'date_published': 1696997594,\n",
              "    'uid': '0dd455d7a8c289c820071362b',\n",
              "    'url': 'http://www.yjc.ir/fa/news/8569052',\n",
              "    'crawler_timestamp': 1696997638,\n",
              "    'ingestor_timestamp': 1697011284,\n",
              "    'summary': 'شیخ زکزاکی رهبر شیعیان نیجریه دقایقی پیش وارد تهران شد.',\n",
              "    'hostname': 'yjc.ir',\n",
              "    'parser_categories': ['سیاست خارجی'],\n",
              "    'keywords': ['رهبر شیعیان نیجریه', 'شیخ زکزاکی'],\n",
              "    'parser_keyword': ['رهبر شیعیان نیجریه', 'ایران'],\n",
              "    'author': 'خبرگزاری باشگاه خبرنگاران; آخرین اخبار ایران و جهان; YJC',\n",
              "    'processed_body': '\\\\n\\\\u0634\\\\u06cc\\\\u062e \\\\u0627\\\\u0628\\\\u0631\\\\u0627\\\\u0647\\\\u06cc\\\\u0645 \\\\u0632\\\\u06a9\\\\u0632\\\\u0627\\\\u06a9\\\\u06cc \\\\u0631\\\\u0647\\\\u0628\\\\u0631 \\\\u0634\\\\u06cc\\\\u0639\\\\u06cc\\\\u0627\\\\u0646 \\\\u0646\\\\u06cc\\\\u062c\\\\u0631\\\\u06cc\\\\u0647 \\\\u062f\\\\u0631 \\\\u062f\\\\u0648\\\\u0645\\\\u06cc\\\\u0646 \\\\u0633\\\\u0641\\\\u0631 \\\\u062e\\\\u0627\\\\u0631\\\\u062c\\\\u06cc \\\\u062e\\\\u0648\\\\u062f \\\\u067e\\\\u0633 \\\\u0627\\\\u0632 \\\\u067e\\\\u0627\\\\u06cc\\\\u0627\\\\u0646 \\\\u062d\\\\u0635\\\\u0631 \\\\u062e\\\\u0627\\\\u0646\\\\u06af\\\\u06cc\\\\u060c \\\\u062f\\\\u0642\\\\u0627\\\\u06cc\\\\u0642\\\\u06cc \\\\u067e\\\\u06cc\\\\u0634 \\\\u0648\\\\u0627\\\\u0631\\\\u062f \\\\u062a\\\\u0647\\\\u0631\\\\u0627\\\\u0646 \\\\u0634\\\\u062f.\\\\n\\\\u0627\\\\u0633\\\\u062a\\\\u0642\\\\u0628\\\\u0627\\\\u0644 \\\\u0645\\\\u0631\\\\u062f\\\\u0645\\\\u06cc \\\\u0627\\\\u0632 \\\\u0631\\\\u0647\\\\u0628\\\\u0631 \\\\u0634\\\\u06cc\\\\u0639\\\\u06cc\\\\u0627\\\\u0646 \\\\u0646\\\\u06cc\\\\u062c\\\\u0631\\\\u06cc\\\\u0647 \\\\u062f\\\\u0631 \\\\u0641\\\\u0631\\\\u0648\\\\u062f\\\\u06af\\\\u0627\\\\u0647 \\\\u0627\\\\u0645\\\\u0627\\\\u0645 \\\\u062e\\\\u0645\\\\u06cc\\\\u0646\\\\u06cc (\\\\u0631\\\\u0647) \\\\u0628\\\\u0631\\\\u06af\\\\u0632\\\\u0627\\\\u0631 \\\\u0634\\\\u062f.\\\\n',\n",
              "    'categories': ['economy'],\n",
              "    'ner_tags': [{'type': 'PER', 'entity': 'شیخ'},\n",
              "     {'type': 'PER', 'entity': 'زکزاکی'},\n",
              "     {'type': 'GPE', 'entity': 'ایران'},\n",
              "     {'type': 'PER', 'entity': 'شیخ زکزاکی'},\n",
              "     {'type': 'POST', 'entity': 'رهبر شیعیان نیجریه'},\n",
              "     {'type': 'GPE', 'entity': 'تهران'}]},\n",
              "   {'body': ['پیکر', 'مقدس', 'دفاع', 'وارد', 'کشور', 'شهدا'],\n",
              "    'image_title_url': 'https://cdn.yjc.ir/files/fa/news/1402/8/1/18450379_117.jpg',\n",
              "    'language': 'fa',\n",
              "    'source': 'خبرگزاری باشگاه خبرنگاران | آخرین اخبار ایران و جهان | YJC',\n",
              "    'title': 'استقبال اروندی ها از پیکر شهدای دفاع مقدس',\n",
              "    'date_published': 1698032617,\n",
              "    'uid': '0fe1211e7323112751c7539e0',\n",
              "    'url': 'http://www.yjc.ir/fa/news/8578925',\n",
              "    'crawler_timestamp': 1698032850,\n",
              "    'ingestor_timestamp': 1698048140,\n",
              "    'summary': 'مردم آبادان و خرمشهر امروز میزبان پیکر ۲۲ شهید بودند.',\n",
              "    'hostname': 'yjc.ir',\n",
              "    'parser_categories': ['آبادان'],\n",
              "    'keywords': ['مسئولان اروندی و استانی', 'دفاع مقدس', 'آبادان', 'خرمشهر'],\n",
              "    'parser_keyword': ['تشییع پیکر', 'پیکر شهیدان'],\n",
              "    'author': 'خبرگزاری باشگاه خبرنگاران; آخرین اخبار ایران و جهان; YJC',\n",
              "    'processed_body': 'صبح امروز پیکر ۲۲ شهید هشت سال دفاع مقدس از مرز بین المللی شلمچه وارد خاک کشور شد و مورد استقبال مردم و مسئولان اروندی و استانی قرار گرفت.\\n\\nقرائت قرآن و دمام نوازی بخشی از آیین استقبال این پیکر لین شهیدان بود.',\n",
              "    'images_url': [],\n",
              "    'categories': ['economy'],\n",
              "    'ner_tags': [{'type': 'EVE', 'entity': 'دفاع مقدس'},\n",
              "     {'type': 'GPE', 'entity': 'آبادان'},\n",
              "     {'type': 'GPE', 'entity': 'خرمشهر'},\n",
              "     {'type': 'EVE', 'entity': 'دفاع مقدس'},\n",
              "     {'type': 'GPE', 'entity': 'شلمچه'},\n",
              "     {'type': 'POST', 'entity': 'مسئولان اروندی و استانی'},\n",
              "     {'type': 'WOA', 'entity': 'قرآن'},\n",
              "     {'type': 'NORP', 'entity': 'دمام'}]},\n",
              "   {'body': ['قرمز', 'فرش', 'جهان', 'پزشک', 'کشور'],\n",
              "    'image_title_url': 'https://cdn.yjc.ir/files/fa/news/1402/8/6/18474022_916.jpg',\n",
              "    'language': 'fa',\n",
              "    'source': 'خبرگزاری باشگاه خبرنگاران | آخرین اخبار ایران و جهان | YJC',\n",
              "    'title': 'خواندن نماز آیات هنگام ماه\\u200cگرفتگی امشب، واجب است',\n",
              "    'date_published': 1698499771,\n",
              "    'uid': 'e94c34ac079bb5d13919f7d01',\n",
              "    'url': 'http://www.yjc.ir/fa/news/8583249',\n",
              "    'crawler_timestamp': 1698499908,\n",
              "    'ingestor_timestamp': 1698516077,\n",
              "    'summary': 'رئیس کمیته علمی ستاد استهلال دفتر رهبر انقلاب  ازواجب بودن  خواندن نماز آیات هنگام ماه\\u200cگرفتگی امشب خبر داد.',\n",
              "    'hostname': 'yjc.ir',\n",
              "    'parser_categories': ['امام و رهبری'],\n",
              "    'keywords': ['رئیس کمیته علمی ستاد استهلال', 'رهبر انقلاب ازواجب'],\n",
              "    'parser_keyword': ['ماه گرفتگی', 'ستاد استهلال'],\n",
              "    'author': 'خبرگزاری باشگاه خبرنگاران; آخرین اخبار ایران و جهان; YJC',\n",
              "    'processed_body': '\\\\n\\\\u062d\\\\u062c\\\\u062a \\\\u0627\\\\u0644\\\\u0627\\\\u0633\\\\u0644\\\\u0627\\\\u0645 \\\\u0639\\\\u0644\\\\u06cc\\\\u0631\\\\u0636\\\\u0627 \\\\u0645\\\\u0648\\\\u062d\\\\u062f\\\\u0646\\\\u0698\\\\u0627\\\\u062f \\\\u0631\\\\u0626\\\\u06cc\\\\u0633 \\\\u06a9\\\\u0645\\\\u06cc\\\\u062a\\\\u0647 \\\\u0639\\\\u0644\\\\u0645\\\\u06cc \\\\u0633\\\\u062a\\\\u0627\\\\u062f \\\\u0627\\\\u0633\\\\u062a\\\\u0647\\\\u0644\\\\u0627\\\\u0644 \\\\u062f\\\\u0641\\\\u062a\\\\u0631 \\\\u0631\\\\u0647\\\\u0628\\\\u0631 \\\\u0627\\\\u0646\\\\u0642\\\\u0644\\\\u0627\\\\u0628 \\\\u06af\\\\u0641\\\\u062a: \\\\u062e\\\\u0648\\\\u0627\\\\u0646\\\\u062f\\\\u0646 \\\\u0646\\\\u0645\\\\u0627\\\\u0632 \\\\u0622\\\\u06cc\\\\u0627\\\\u062a \\\\u0647\\\\u0646\\\\u06af\\\\u0627\\\\u0645 \\\\u0645\\\\u0627\\\\u0647\\\\u200c\\\\u06af\\\\u0631\\\\u0641\\\\u062a\\\\u06af\\\\u06cc \\\\u0627\\\\u0645\\\\u0634\\\\u0628 \\\\u0648\\\\u0627\\\\u062c\\\\u0628 \\\\u0627\\\\u0633\\\\u062a.\\\\n\\\\u00a0\\\\n\\\\u00a0\\\\n\\\\u00a0\\\\n\\\\u00a0\\\\n',\n",
              "    'images_url': [],\n",
              "    'categories': ['economy'],\n",
              "    'ner_tags': [{'type': 'POST',\n",
              "      'entity': 'رئیس کمیته علمی ستاد استهلال دفتر رهبر انقلاب ازواجب بودن'}]},\n",
              "   {'body': ['صعود', 'بسکتبالیست', 'زن', 'ردهبندی', 'جهانی', 'کشور', 'پل'],\n",
              "    'image_title_url': 'https://cdn.yjc.ir/files/fa/news/1402/6/24/18279809_358.jpg',\n",
              "    'language': 'fa',\n",
              "    'source': 'خبرگزاری باشگاه خبرنگاران | آخرین اخبار ایران و جهان | YJC',\n",
              "    'title': 'توضیحات نماینده سپاهان درباره کسر امتیاز از این تیم',\n",
              "    'date_published': 1694791657,\n",
              "    'uid': '9b5daac34d2323bc5b71eff1c',\n",
              "    'url': 'http://www.yjc.ir/fa/news/8547834',\n",
              "    'crawler_timestamp': 1694792365,\n",
              "    'ingestor_timestamp': 1694808114,\n",
              "    'summary': 'عضو هیئت مدیره سپاهان گفت: این که دوستان ما روی قرارداد هادی محمدی مانور می\\u200cدهند به دلیل دست خالی بودن آنهاست.',\n",
              "    'hostname': 'yjc.ir',\n",
              "    'parser_categories': ['فوتبال و فوتسال'],\n",
              "    'keywords': ['عضو هیئت مدیره سپاهان',\n",
              "     'نماینده سپاهان',\n",
              "     'هادی محمدی',\n",
              "     'قرارداد'],\n",
              "    'parser_keyword': ['فوتبال سپاهان', 'هادی محمدی', 'نقل و انتقالات'],\n",
              "    'author': 'خبرگزاری باشگاه خبرنگاران; آخرین اخبار ایران و جهان; YJC',\n",
              "    'processed_body': 'پیروز عضو هیئت مدیره سپاهان گفت: ما در فرصت نقل و انتقالات قرارداد هادی محمدی را اصلاح کردیم، دیگر چه کاری باید انجام می\\u200cدادیم؟',\n",
              "    'categories': ['sports'],\n",
              "    'ner_tags': [{'type': 'POST', 'entity': 'نماینده سپاهان'},\n",
              "     {'type': 'POST', 'entity': 'عضو هیئت مدیره سپاهان'},\n",
              "     {'type': 'LAW', 'entity': 'قرارداد'},\n",
              "     {'type': 'PER', 'entity': 'هادی محمدی'},\n",
              "     {'type': 'PER', 'entity': 'پیروز'},\n",
              "     {'type': 'POST', 'entity': 'عضو هیئت مدیره سپاهان'},\n",
              "     {'type': 'LAW', 'entity': 'قرارداد هادی محمدی'}]},\n",
              "   {'body': ['صعود', 'بسکتبالیست', 'زن', 'ردهبندی', 'جهانی', 'کشور', 'پل'],\n",
              "    'image_title_url': 'https://cdn.yjc.ir/files/fa/news/1402/6/24/18279970_986.jpg',\n",
              "    'language': 'fa',\n",
              "    'source': 'خبرگزاری باشگاه خبرنگاران | آخرین اخبار ایران و جهان | YJC',\n",
              "    'title': 'طلسم گلزنی طارمی شکست',\n",
              "    'date_published': 1694795757,\n",
              "    'uid': 'd2dd64b93ea43a190cf2c6221',\n",
              "    'url': 'http://www.yjc.ir/fa/news/8547863',\n",
              "    'crawler_timestamp': 1694796436,\n",
              "    'ingestor_timestamp': 1694811707,\n",
              "    'summary': 'طلسم گلزنی طارمی در فصل جدید لیگ پرتغال شکست.',\n",
              "    'hostname': 'yjc.ir',\n",
              "    'parser_categories': ['فوتبال و فوتسال'],\n",
              "    'keywords': ['مهاجم ایرانی پورتو', 'لیگ پرتغال', 'استرلا', 'طارمی'],\n",
              "    'parser_keyword': ['طارمی', 'لیگ پرتغال', 'گلزنی'],\n",
              "    'author': 'خبرگزاری باشگاه خبرنگاران; آخرین اخبار ایران و جهان; YJC',\n",
              "    'processed_body': 'مهاجم ایرانی پورتو در هفته پنجم لیگ پرتغال اولین گل تیمش مقابل استرلا و اولین گل خودش در فصل جدید را به ثمر رساند.',\n",
              "    'categories': ['sports'],\n",
              "    'ner_tags': [{'type': 'PER', 'entity': 'طارمی'},\n",
              "     {'type': 'PER', 'entity': 'طارمی'},\n",
              "     {'type': 'EVE', 'entity': 'لیگ پرتغال'},\n",
              "     {'type': 'POST', 'entity': 'مهاجم ایرانی پورتو'},\n",
              "     {'type': 'ORG', 'entity': 'استرلا'}]},\n",
              "   {'body': ['قم', 'هیچ', 'زیارت', 'شهردار', 'سهم', 'بودجه', 'کشور'],\n",
              "    'image_title_url': 'https://cdn.yjc.ir/files/fa/news/1402/6/28/18297767_544.jpg',\n",
              "    'language': 'fa',\n",
              "    'source': 'خبرگزاری باشگاه خبرنگاران | آخرین اخبار ایران و جهان | YJC',\n",
              "    'title': 'معلمان قمی با ایده های جدید به استقبال دانش آموزان می\\u200cروند',\n",
              "    'date_published': 1695132001,\n",
              "    'uid': '1b46832127fadf85ac9f49f6a',\n",
              "    'url': 'http://www.yjc.ir/fa/news/8551073',\n",
              "    'crawler_timestamp': 1695132128,\n",
              "    'ingestor_timestamp': 1695146606,\n",
              "    'summary': '',\n",
              "    'hostname': '',\n",
              "    'parser_categories': [],\n",
              "    'keywords': ['شهرداری قم', 'آموزان', 'زیارتی'],\n",
              "    'parser_keyword': [],\n",
              "    'author': '',\n",
              "    'processed_body': 'سهم \"هیچ\" شهرداری قم از بودجه زیارتی کشور ۱',\n",
              "    'categories': ['politics'],\n",
              "    'ner_tags': [{'type': 'JOB', 'entity': 'معلمان قمی'},\n",
              "     {'type': 'JOB', 'entity': 'دانش آموزان'},\n",
              "     {'type': 'ORG', 'entity': 'شهرداری قم'}]},\n",
              "   {'body': ['روزنامه', 'صفحه', 'کشور', 'شهریور'],\n",
              "    'image_title_url': 'https://www.iribnews.ir/files/fa/news/1402/6/18/10112908_686.jpg',\n",
              "    'language': 'fa',\n",
              "    'source': 'IRIB NEWS AGENCY',\n",
              "    'title': 'صفحه نخست روزنامه\\u200cهای کشور ۱۸ شهریور ۱۴۰۲',\n",
              "    'date_published': 1694221737,\n",
              "    'uid': 'be22e5d1ac3f99a1b9dd1f3ce',\n",
              "    'url': 'http://www.iribnews.ir/fa/news/3970459/صفحه-نخست-روزنامه\\u200cهای-کشور-۱۸-شهریور-۱۴۰۲',\n",
              "    'crawler_timestamp': 1694221878,\n",
              "    'ingestor_timestamp': 1694236366,\n",
              "    'cluster_id': 'a2b3e8144ebe11ee8e1246c3bf96b467',\n",
              "    'summary': 'صفحه نخست روزنامه\\u200cهای کشور ۱۸ شهریور ۱۴۰۲ را ببینید .',\n",
              "    'hostname': 'iribnews.ir',\n",
              "    'parser_categories': ['فارس'],\n",
              "    'keywords': ['۱۸ شهریور ۱۴۰۲', '۱۸ شهریور ۱۴۰۲صفحه'],\n",
              "    'parser_keyword': [],\n",
              "    'author': 'خبرگزاری صدا و سیما; IRIB NEWS AGENCY',\n",
              "    'processed_body': 'به گزارش خبرگزاری صدا و سیما مرکز فارس، صفحه نخست روزنامه\\u200cهای کشور ۱۸ شهریور ۱۴۰۲ را ببینید .\\n\\nصفحه نخست روزنامه\\u200cهای کشور ۱۸ شهریور ۱۴۰۲ صفحه نخست روزنامه\\u200cهای کشور ۱۸ شهریور ۱۴۰۲ صفحه نخست روزنامه\\u200cهای کشور ۱۸ شهریور ۱۴۰۲ صفحه نخست روزنامه\\u200cهای کشور ۱۸ شهریور ۱۴۰۲ صفحه نخست روزنامه\\u200cهای کشور ۱۸ شهریور ۱۴۰۲ صفحه نخست روزنامه\\u200cهای کشور ۱۸ شهریور ۱۴۰۲ صفحه نخست روزنامه\\u200cهای کشور ۱۸ شهریور ۱۴۰۲ صفحه نخست روزنامه\\u200cهای کشور ۱۸ شهریور ۱۴۰۲ صفحه نخست روزنامه\\u200cهای کشور ۱۸ شهریور ۱۴۰۲ صفحه نخست روزنامه\\u200cهای کشور ۱۸ شهریور ۱۴۰۲',\n",
              "    'categories': ['politics'],\n",
              "    'ner_tags': [{'type': 'DATE', 'entity': '۱۸ شهریور ۱۴۰۲'},\n",
              "     {'type': 'DATE', 'entity': '۱۸ شهریور ۱۴۰۲'},\n",
              "     {'type': 'ORG', 'entity': 'خبرگزاری صدا و سیما'},\n",
              "     {'type': 'ORG', 'entity': 'مرکز فارس'},\n",
              "     {'type': 'DATE', 'entity': '۱۸ شهریور ۱۴۰۲'},\n",
              "     {'type': 'DATE', 'entity': '۱۸ شهریور ۱۴۰۲'},\n",
              "     {'type': 'DATE', 'entity': '۱۸ شهریور ۱۴۰۲'},\n",
              "     {'type': 'DATE', 'entity': '۱۸ شهریور ۱۴۰۲'},\n",
              "     {'type': 'DATE', 'entity': '۱۸ شهریور ۱۴۰۲'},\n",
              "     {'type': 'DATE', 'entity': '۱۸ شهریور ۱۴۰۲'},\n",
              "     {'type': 'DATE', 'entity': '۱۸ شهریور ۱۴۰۲'},\n",
              "     {'type': 'DATE', 'entity': '۱۸ شهریور ۱۴۰۲'},\n",
              "     {'type': 'DATE', 'entity': '۱۸ شهریور ۱۴۰۲'},\n",
              "     {'type': 'DATE', 'entity': '۱۸ شهریور ۱۴۰۲'},\n",
              "     {'type': 'DATE', 'entity': '۱۸ شهریور ۱۴۰۲'}]},\n",
              "   {'body': ['روزنامه', 'ورزش', 'شهریور', 'کشور'],\n",
              "    'image_title_url': 'https://www.iribnews.ir/files/fa/news/1402/6/18/10112925_349.jpg',\n",
              "    'language': 'fa',\n",
              "    'source': 'IRIB NEWS AGENCY',\n",
              "    'title': 'روزنامه های ورزشی کشور ۱۸ شهریور ۱۴۰۲',\n",
              "    'date_published': 1694222199,\n",
              "    'uid': 'b677f615472fbfba836475a01',\n",
              "    'url': 'http://www.iribnews.ir/fa/news/3970757/روزنامه-های-ورزشی-کشور-۱۸-شهریور-۱۴۰۲',\n",
              "    'crawler_timestamp': 1694222476,\n",
              "    'ingestor_timestamp': 1694236365,\n",
              "    'summary': 'صفحه نخست روزنامه\\u200cهای ورزشی کشور ۱۸ شهریور ۱۴۰۲ را ببینید .',\n",
              "    'hostname': 'iribnews.ir',\n",
              "    'parser_categories': ['فارس'],\n",
              "    'keywords': ['۱۸ شهریور ۱۴۰۲', '۱۸ شهریور'],\n",
              "    'parser_keyword': [],\n",
              "    'author': 'خبرگزاری صدا و سیما; IRIB NEWS AGENCY',\n",
              "    'processed_body': 'به گزارش خبرگزاری صدا و سیما مرکز فارس، صفحه نخست روزنامه\\u200cهای ورزشی کشور ۱۸ شهریور ۱۴۰۲ را ببینید .\\n\\nروزنامه های ورزشی کشور ۱۸ شهریور ۱۴۰۲ روزنامه های ورزشی کشور ۱۸ شهریور ۱۴۰۲ روزنامه های ورزشی کشور ۱۸ شهریور ۱۴۰۲ روزنامه های ورزشی کشور ۱۸ شهریور ۱۴۰۲ روزنامه های ورزشی کشور ۱۸ شهریور ۱۴۰۲ روزنامه های ورزشی کشور ۱۸ شهریور ۱۴۰۲ روزنامه های ورزشی کشور ۱۸ شهریور ۱۴۰۲ روزنامه های ورزشی کشور ۱۸ شهریور ۱۴۰۲ روزنامه های ورزشی کشور ۱۸ شهریور ۱۴۰۲',\n",
              "    'categories': ['sports'],\n",
              "    'ner_tags': [{'type': 'ORG', 'entity': 'روزنامه های ورزشی کشور'},\n",
              "     {'type': 'DATE', 'entity': '۱۸ شهریور ۱۴۰۲'},\n",
              "     {'type': 'DATE', 'entity': '۱۸ شهریور ۱۴۰۲'},\n",
              "     {'type': 'ORG', 'entity': 'خبرگزاری صدا و سیما'},\n",
              "     {'type': 'ORG', 'entity': 'مرکز فارس'},\n",
              "     {'type': 'DATE', 'entity': '۱۸ شهریور ۱۴۰۲'},\n",
              "     {'type': 'DATE', 'entity': '۱۸ شهریور ۱۴۰۲'},\n",
              "     {'type': 'DATE', 'entity': '۱۸ شهریور ۱۴۰۲'},\n",
              "     {'type': 'DATE', 'entity': '۱۸ شهریور ۱۴۰۲'},\n",
              "     {'type': 'DATE', 'entity': '۱۸ شهریور ۱۴۰۲'},\n",
              "     {'type': 'DATE', 'entity': '۱۸ شهریور ۱۴۰۲'},\n",
              "     {'type': 'DATE', 'entity': '۱۸ شهریور ۱۴۰۲'},\n",
              "     {'type': 'DATE', 'entity': '۱۸ شهریور ۱۴۰۲'},\n",
              "     {'type': 'DATE', 'entity': '۱۸ شهریور ۱۴۰۲'},\n",
              "     {'type': 'DATE', 'entity': '۱۸ شهریور ۱۴۰۲'}]},\n",
              "   {'body': ['قم', 'هیچ', 'زیارت', 'شهردار', 'سهم', 'بودجه', 'کشور'],\n",
              "    'image_title_url': 'https://cdn.yjc.ir/files/fa/news/1402/6/30/18304226_376.jpg',\n",
              "    'language': 'fa',\n",
              "    'source': 'خبرگزاری باشگاه خبرنگاران | آخرین اخبار ایران و جهان | YJC',\n",
              "    'title': 'صفحه نخست روزنامه\\u200cهای قم _پنجشنبه ۳۰ شهریور ماه',\n",
              "    'date_published': 1695261156,\n",
              "    'uid': '21d5e3d399a8dfc217329e0f8',\n",
              "    'url': 'http://www.yjc.ir/fa/news/8552272',\n",
              "    'crawler_timestamp': 1695261502,\n",
              "    'ingestor_timestamp': 1695276086,\n",
              "    'summary': 'تصاویر صفحه نخست برخی از روزنامه\\u200cهای قم، امروز پنجشنبه سی شهریور ماه ۱۴۰۲ را مشاهده کنید.',\n",
              "    'hostname': 'yjc.ir',\n",
              "    'parser_categories': ['قم'],\n",
              "    'keywords': ['سی شهریور ماه ۱۴۰۲'],\n",
              "    'parser_keyword': ['روزنامه های قم', 'مطبوعات قم'],\n",
              "    'author': 'خبرگزاری باشگاه خبرنگاران; آخرین اخبار ایران و جهان; YJC',\n",
              "    'processed_body': '\\\\n\\\\u062a\\\\u0635\\\\u0627\\\\u0648\\\\u06cc\\\\u0631 \\\\u0635\\\\u0641\\\\u062d\\\\u0647 \\\\u0646\\\\u062e\\\\u0633\\\\u062a \\\\u0631\\\\u0648\\\\u0632\\\\u0646\\\\u0627\\\\u0645\\\\u0647\\\\u200c\\\\u0647\\\\u0627\\\\u06cc \\\\u0627\\\\u0633\\\\u062a\\\\u0627\\\\u0646 \\\\u0642\\\\u0645\\\\u060c \\\\u0627\\\\u0645\\\\u0631\\\\u0648\\\\u0632 \\\\u067e\\\\u0646\\\\u062c\\\\u0634\\\\u0646\\\\u0628\\\\u0647 \\\\u0633\\\\u06cc \\\\u0634\\\\u0647\\\\u0631\\\\u06cc\\\\u0648\\\\u0631 \\\\u0645\\\\u0627\\\\u0647 \\\\u06f1\\\\u06f4\\\\u06f0\\\\u06f2 \\\\u0631\\\\u0627 \\\\u0628\\\\u0627 \\\\u062a\\\\u06cc\\\\u062a\\\\u0631\\\\u200c\\\\u0647\\\\u0627 \\\\u0648 \\\\u0639\\\\u0646\\\\u0627\\\\u0648\\\\u06cc\\\\u0646 \\\\u0645\\\\u062e\\\\u062a\\\\u0644\\\\u0641 \\\\u0645\\\\u0634\\\\u0627\\\\u0647\\\\u062f\\\\u0647 \\\\u0645\\\\u06cc\\\\u200c\\\\u06a9\\\\u0646\\\\u06cc\\\\u062f.\\\\n\\\\u00a0\\\\n\\\\u00a0\\\\n\\\\u00a0\\\\n\\\\u00a0\\\\n\\\\u00a0\\\\n\\\\u00a0\\\\n\\\\n\\\\n\\\\n',\n",
              "    'categories': ['economy'],\n",
              "    'ner_tags': [{'type': 'DATE', 'entity': '۳۰ شهریور ماه'},\n",
              "     {'type': 'DATE', 'entity': 'سی شهریور ماه ۱۴۰۲'}]},\n",
              "   {'body': ['قم', 'هیچ', 'زیارت', 'شهردار', 'سهم', 'بودجه', 'کشور'],\n",
              "    'image_title_url': 'https://cdn.yjc.ir/files/fa/news/1402/6/29/18299652_523.jpg',\n",
              "    'language': 'fa',\n",
              "    'source': 'خبرگزاری باشگاه خبرنگاران | آخرین اخبار ایران و جهان | YJC',\n",
              "    'title': 'صفحه نخست روزنامه\\u200cهای قم _چهارشنبه ۲۹ شهریور ماه',\n",
              "    'date_published': 1695177333,\n",
              "    'uid': '3bfeb6e729d6852c55a248aef',\n",
              "    'url': 'http://www.yjc.ir/fa/news/8551402',\n",
              "    'crawler_timestamp': 1695178158,\n",
              "    'ingestor_timestamp': 1695193372,\n",
              "    'summary': 'تصاویر صفحه نخست برخی از روزنامه\\u200cهای قم، امروز چهارشنبه بیست ونهم شهریور ماه ۱۴۰۲ را مشاهده کنید.',\n",
              "    'hostname': 'yjc.ir',\n",
              "    'parser_categories': ['قم'],\n",
              "    'keywords': ['شهریور ماه ۱۴۰۲', 'چهارشنبه'],\n",
              "    'parser_keyword': ['روزنامه استانی', 'مطبوعات قم'],\n",
              "    'author': 'خبرگزاری باشگاه خبرنگاران; آخرین اخبار ایران و جهان; YJC',\n",
              "    'processed_body': '\\\\n\\\\u062a\\\\u0635\\\\u0627\\\\u0648\\\\u06cc\\\\u0631 \\\\u0635\\\\u0641\\\\u062d\\\\u0647 \\\\u0646\\\\u062e\\\\u0633\\\\u062a \\\\u0631\\\\u0648\\\\u0632\\\\u0646\\\\u0627\\\\u0645\\\\u0647\\\\u200c\\\\u0647\\\\u0627\\\\u06cc \\\\u0627\\\\u0633\\\\u062a\\\\u0627\\\\u0646 \\\\u0642\\\\u0645\\\\u060c \\\\u0627\\\\u0645\\\\u0631\\\\u0648\\\\u0632 \\\\u0686\\\\u0647\\\\u0627\\\\u0631\\\\u0634\\\\u0646\\\\u0628\\\\u0647 \\\\u0628\\\\u06cc\\\\u0633\\\\u062a \\\\u0648\\\\u0646\\\\u0647\\\\u0645 \\\\u0634\\\\u0647\\\\u0631\\\\u06cc\\\\u0648\\\\u0631 \\\\u0645\\\\u0627\\\\u0647 \\\\u06f1\\\\u06f4\\\\u06f0\\\\u06f2 \\\\u0631\\\\u0627 \\\\u0628\\\\u0627 \\\\u062a\\\\u06cc\\\\u062a\\\\u0631\\\\u200c\\\\u0647\\\\u0627 \\\\u0648 \\\\u0639\\\\u0646\\\\u0627\\\\u0648\\\\u06cc\\\\u0646 \\\\u0645\\\\u062e\\\\u062a\\\\u0644\\\\u0641 \\\\u0645\\\\u0634\\\\u0627\\\\u0647\\\\u062f\\\\u0647 \\\\u0645\\\\u06cc\\\\u200c\\\\u06a9\\\\u0646\\\\u06cc\\\\u062f.\\\\n\\\\u00a0\\\\n\\\\u00a0\\\\n\\\\u00a0\\\\n\\\\u00a0\\\\n\\\\n\\\\n\\\\n',\n",
              "    'categories': ['economy'],\n",
              "    'ner_tags': [{'type': 'DATE', 'entity': 'بیست ونهم شهریور ماه ۱۴۰۲'}]},\n",
              "   {'body': ['بازگشتند', 'آزاد', 'قطر', 'زندان', 'ایران', 'کشور', 'بازگشت'],\n",
              "    'image_title_url': 'https://img9.irna.ir/d/r2/2023/09/07/4/170596020.jpg',\n",
              "    'language': 'fa',\n",
              "    'source': 'موتور جستجوی قطره',\n",
              "    'title': 'سه زندانی ایرانی آزاد شده در قطر به کشور بازگشتند | سه زندانی',\n",
              "    'date_published': 1694071074,\n",
              "    'uid': 'd2088c59eef11566ba6851e4b',\n",
              "    'url': 'https://www.ghatreh.com/news/nn14020601356592486400/زندانی-ایرانی-آزاد-شده-قطر-کشور-بازگشتند',\n",
              "    'crawler_timestamp': 1694071152,\n",
              "    'ingestor_timestamp': 1694084724,\n",
              "    'summary': 'سه زندانی ایرانی در قطر که پیشتر حکم آزادیشان صادر شده بود، با قایق های خود به کشور بازگشتند. -',\n",
              "    'hostname': 'ghatreh.com',\n",
              "    'parser_categories': [],\n",
              "    'keywords': ['ایرانی', 'قطر'],\n",
              "    'parser_keyword': ['کشور', 'زندانی', 'ایرانی', 'آزاد', 'کشورمان', 'صادر'],\n",
              "    'author': 'حسن قلي پور خطير',\n",
              "    'processed_body': '3 زندانی ایرانی آزاد شده در قطر به کشور بازگشتند\\n\\n3 زندانی ایرانی آزاد شده در قطر به کشور بازگشتند\\n\\n3 زندانی ایرانی آزاد شده در قطر به کشور بازگشتند\\n\\nزندانی ایرانی آزاد شده در قطر به کشور بازگشتند\\n\\nبازگشت 3 زندانی ایرانی آزاد شده در قطر به کشور',\n",
              "    'categories': ['economy'],\n",
              "    'ner_tags': [{'type': 'NORP', 'entity': 'ایرانی'},\n",
              "     {'type': 'GPE', 'entity': 'قطر'},\n",
              "     {'type': 'NORP', 'entity': 'ایرانی'},\n",
              "     {'type': 'GPE', 'entity': 'قطر'},\n",
              "     {'type': 'NORP', 'entity': 'ایرانی'},\n",
              "     {'type': 'GPE', 'entity': 'قطر'},\n",
              "     {'type': 'NORP', 'entity': 'ایرانی'},\n",
              "     {'type': 'GPE', 'entity': 'قطر'},\n",
              "     {'type': 'NORP', 'entity': 'ایرانی'},\n",
              "     {'type': 'GPE', 'entity': 'قطر'},\n",
              "     {'type': 'NORP', 'entity': 'ایرانی'},\n",
              "     {'type': 'GPE', 'entity': 'قطر'},\n",
              "     {'type': 'NORP', 'entity': 'ایرانی'},\n",
              "     {'type': 'GPE', 'entity': 'قطر'}]},\n",
              "   {'body': ['دوره', 'رئیس', 'لوح', 'متعلق', 'هخامنش', 'کشور', 'بازگشت'],\n",
              "    'image_title_url': 'https://cdn.yjc.ir/files/fa/news/1402/6/31/18308238_312.jpeg',\n",
              "    'language': 'fa',\n",
              "    'source': 'خبرگزاری باشگاه خبرنگاران | آخرین اخبار ایران و جهان | YJC',\n",
              "    'title': 'صفحه نخست روزنامه\\u200cها - شنبه اول مهر',\n",
              "    'date_published': 1695427597,\n",
              "    'uid': 'f8d6cec3da9836b42c415252d',\n",
              "    'url': 'http://www.yjc.ir/fa/news/8553024',\n",
              "    'crawler_timestamp': 1695427931,\n",
              "    'ingestor_timestamp': 1695441634,\n",
              "    'summary': 'روزنامه\\u200cهای امروز به موضوعاتی نظیر بازگشت ۳۵۰۶ لوح هخامنشی از آمریکا به ایران و رژه نیرو\\u200cهای مسلح در سالروز آغاز هفته دفاع مقدس پرداخته\\u200cاند.',\n",
              "    'hostname': 'yjc.ir',\n",
              "    'parser_categories': ['احزاب و تشکل\\u200cها'],\n",
              "    'keywords': ['سالروز آغاز هفته دفاع مقدس',\n",
              "     'رژه نیرو\\u200cهای مسلح',\n",
              "     'سبفت برس'],\n",
              "    'parser_keyword': ['روزنامه ها', 'صفحه نخست روزنامه ها'],\n",
              "    'author': 'خبرگزاری باشگاه خبرنگاران; آخرین اخبار ایران و جهان; YJC',\n",
              "    'processed_body': 'بازگشت ۳۵۰۶ لوح هخامنشی از آمریکا به ایران، سبفت برس از بانک، استرداد میراث ملی پس از ۸۴ سال، رونمایی از دوربرد\\u200cترین پهپاد جهان از عناوین روزنامه\\u200cهای امروز هستند.',\n",
              "    'categories': ['politics'],\n",
              "    'ner_tags': [{'type': 'DATE', 'entity': 'اول مهر'},\n",
              "     {'type': 'NORP', 'entity': 'هخامنشی'},\n",
              "     {'type': 'GPE', 'entity': 'آمریکا'},\n",
              "     {'type': 'GPE', 'entity': 'ایران'},\n",
              "     {'type': 'ORG', 'entity': 'نیرو\\u200cهای مسلح'},\n",
              "     {'type': 'EVE', 'entity': 'سالروز آغاز هفته دفاع مقدس'},\n",
              "     {'type': 'NORP', 'entity': 'هخامنشی'},\n",
              "     {'type': 'GPE', 'entity': 'آمریکا'},\n",
              "     {'type': 'GPE', 'entity': 'ایران'},\n",
              "     {'type': 'ORG', 'entity': 'سبفت برس'}]},\n",
              "   {'body': ['دوره', 'رئیس', 'لوح', 'متعلق', 'هخامنش', 'کشور', 'بازگشت'],\n",
              "    'image_title_url': 'https://cdn.yjc.ir/files/fa/news/1402/7/1/18311557_747.jpg',\n",
              "    'language': 'fa',\n",
              "    'source': 'خبرگزاری باشگاه خبرنگاران | آخرین اخبار ایران و جهان | YJC',\n",
              "    'title': 'سخنرانی رئیسی به مناسبت بازگشایی مدارس آغاز شد',\n",
              "    'date_published': 1695431316,\n",
              "    'uid': 'a5e136b12c2c0fd9f59bf6ad9',\n",
              "    'url': 'http://www.yjc.ir/fa/news/8553559',\n",
              "    'crawler_timestamp': 1695431467,\n",
              "    'ingestor_timestamp': 1695445248,\n",
              "    'summary': 'رئیس جمهور گفت: اینکه بدانیم در گذشته کجا بودیم و الان کجا هستیم و در آینده چه راهی را باید برویم بسیار مهم است و دانش آموزان پیشرفت\\u200cهای کشور را به تصویر بکشند.',\n",
              "    'hostname': 'yjc.ir',\n",
              "    'parser_categories': ['دولت'],\n",
              "    'keywords': ['آموزش و پرورش', 'رئیس جمهور', 'پویش مهر', 'رئیس قوه مجریه'],\n",
              "    'parser_keyword': ['سیاسی', 'آغاز سال تحصیلی', 'بازگشایی مدارس'],\n",
              "    'author': 'خبرگزاری باشگاه خبرنگاران; آخرین اخبار ایران و جهان; YJC',\n",
              "    'processed_body': 'رئیسی در مراسم آغاز سال تحصیلی در شهرستان بهارستان:\\n\\nآیت الله سید ابراهیم رئیسی، رئیس جمهور کشورمان با حضور در مدرسه\\u200c شهید امیرکمندی در شهرستان بهارستان واقع در استان تهران زنگ آغاز تحصیلی را نواخت.\\n\\nرئیس جمهور در ابتدای مراسم گرامی\\u200cداشت آغاز تحصیلی بیان کرد: همزمانی آغاز سال تحصیلی امسال با هفته دفاع مقدس تقارن بسیار زیبایی است که همواره به یاد می\\u200cماند، زیرا هفته دفاع مقدس بسیار مهم و یادآور رشادت و ایستادگی از سوی دلاور مردان رزمنده است و برای جانبازان طلب عافیت قرار دهد و امسال برای همه دانش آموزان، معلمان، مدیران و خانواده بزرگ آموزش و پرورش سال خوبی باشد.\\n\\nوی اظهار کرد: ما وزارتخانه\\u200cهای مهمی داریم، اما هیچ یک اهمیت کارشان به اندازه تربیت نیروی انسانی نیست اهمیت وزارت آموزش و پرورش به این دلیل است که در حال کادرسازی و هویت سازی برای فرزندان این کشور است و آینده در دست این افراد است و آینده سازان کشور در این مدارس در حال ساخته شدن هستند.\\n\\nرئیس قوه مجریه اضافه کرد: انجام این ماموریت مهم در گرو دستان توانای مدیران و با محوریت معلمان است. معلم بسیار مهم است و شخصیتی است که فرزندان از او الگو می\\u200cگیرند و هم الگوی علمی و هم عملی است. شغل معلمان شغل انبیا و اولیاست و باید قدر خود را در این جایگاه بدانند چرا که منزلتشان بسیار بالاست و باید این شان را حفظ کنند و دیگران هم به آن توجه کنند لذا علم افزایی و معرفت افزایی معلمان بسیار اهمیت دارد.\\n\\nرئیسی بیان کرد: اهمیت دادن به جایگاه معلم بسیار مهم است. نکته دوم مسئله ارتباط بین خانه و مدرسه است. هم خانه بسیار مهم است و هم مدرسه لذا خانه و مدرسه در این موضوع بسیار اهمیت دارند. مدرسه مرکز تحول است و اگر رهبر معظم انقلاب بر روی اجرای سند تحول وزارت آموزش و پرورش تاکید می\\u200cکنند محور ایجاد این سند مدرسه است.\\n\\nوی ادامه داد: من تاکید دارم بر روی مدرسه و حساسیت آن. نکته مهم هم این است که دانش آموز، معلم و مدیر بسیار مهم است.\\n\\nرئیس قوه مجریه گفت: روسای جمهور هر زمانی که در جمع دانش آموزان وارد می\\u200cشوند موضوع پرسش مهر را مطرح می\\u200cکنند. من هر سال در جمع دانش آموزان پویش مهر را مطرح می\\u200cکنم. کشور ما کشوری است که پس از پیروزی انقلاب پیشرفت بسیار زیادی داشته است. در زمان آغاز پیروزی نقلاب اسلامی خوب است بدانید که در چه وضعیتی قرار داشتیم.\\n\\nرئیس جمهور بیان کرد: اینکه بدانیم در گذشته کجا بودیم و الان کجا هستیم و در آینده چه راهی را باید برویم بسیار مهم است لذا باید تاکید کنم که همه شما با سلایق بسیار خوبی که دارید بیایید و پیشرفت\\u200cهای کشور را به تصویر بکشید. حتما روستا، شهر و کشور شما علی\\u200cرغم همه مشکل سازی دشمنان پیشرفتی داشته است.\\n\\nوی ادامه داد: مطرح شده بود که در کنار اردو\\u200cهای راهیان نور یک راهیان پیشرفت نیز بروند و راویان پیشرفت کشور باشند. من از دانش آموزان می\\u200cخواهم که این پیشرفت\\u200cها را ببینند و با تصویری که می\\u200cسازند و با تهیه گزارش و ارائه آن\\u200cها این موضوعات را به نمایش بگذارند تا هم دانش آموزان ببینند و این کار را علاوه بر مدرسه در شهر و استان نیز رقم بزنند تا آموزش و پرورش از پویش مهر گزارشی بسیار دیدنی تهیه کند.\\n\\nدر حال تکمیل...',\n",
              "    'categories': ['economy'],\n",
              "    'ner_tags': [{'type': 'POST', 'entity': 'رئیس جمهور'},\n",
              "     {'type': 'PER', 'entity': 'رئیسی'},\n",
              "     {'type': 'ORG', 'entity': 'بهارستان'},\n",
              "     {'type': 'PER', 'entity': 'آیت الله'},\n",
              "     {'type': 'PER', 'entity': 'ابراهیم رئیسی'},\n",
              "     {'type': 'POST', 'entity': 'رئیس جمهور کشورمان'},\n",
              "     {'type': 'FAC', 'entity': 'مدرسه شهید امیرکمندی'},\n",
              "     {'type': 'GPE', 'entity': 'بهارستان'},\n",
              "     {'type': 'GPE', 'entity': 'تهران'},\n",
              "     {'type': 'POST', 'entity': 'رئیس جمهور'},\n",
              "     {'type': 'EVE', 'entity': 'مراسم گرامی\\u200cداشت'},\n",
              "     {'type': 'EVE', 'entity': 'هفته دفاع مقدس'},\n",
              "     {'type': 'EVE', 'entity': 'هفته دفاع مقدس'},\n",
              "     {'type': 'JOB', 'entity': 'دانش آموزان'},\n",
              "     {'type': 'JOB', 'entity': 'معلمان'},\n",
              "     {'type': 'POST', 'entity': 'مدیران'},\n",
              "     {'type': 'ORG', 'entity': 'وزارت آموزش و پرورش'},\n",
              "     {'type': 'POST', 'entity': 'رئیس قوه مجریه'},\n",
              "     {'type': 'POST', 'entity': 'مدیران'},\n",
              "     {'type': 'JOB', 'entity': 'معلمان'},\n",
              "     {'type': 'JOB', 'entity': 'معلم'},\n",
              "     {'type': 'JOB', 'entity': 'معلمان'},\n",
              "     {'type': 'JOB', 'entity': 'معلمان'},\n",
              "     {'type': 'PER', 'entity': 'رئیسی'},\n",
              "     {'type': 'JOB', 'entity': 'معلم'},\n",
              "     {'type': 'FAC', 'entity': 'مدرسه'},\n",
              "     {'type': 'POST', 'entity': 'رهبر معظم انقلاب'},\n",
              "     {'type': 'EVE', 'entity': 'سند تحول'},\n",
              "     {'type': 'ORG', 'entity': 'وزارت آموزش و پرورش'},\n",
              "     {'type': 'JOB', 'entity': 'معلم'},\n",
              "     {'type': 'POST', 'entity': 'مدیر'},\n",
              "     {'type': 'POST', 'entity': 'رئیس قوه مجریه'},\n",
              "     {'type': 'POST', 'entity': 'روسای جمهور'},\n",
              "     {'type': 'ORG', 'entity': 'مهر'},\n",
              "     {'type': 'JOB', 'entity': 'دانش آموزان'},\n",
              "     {'type': 'EVE', 'entity': 'پویش مهر'},\n",
              "     {'type': 'EVE', 'entity': 'پیروزی انقلاب'},\n",
              "     {'type': 'NORP', 'entity': 'اسلامی'},\n",
              "     {'type': 'POST', 'entity': 'رئیس جمهور'},\n",
              "     {'type': 'EVE', 'entity': 'اردو\\u200cهای راهیان نور'},\n",
              "     {'type': 'ORG', 'entity': 'آموزش و پرورش'},\n",
              "     {'type': 'ORG', 'entity': 'پویش مهر'}]}])]"
            ]
          },
          "metadata": {},
          "execution_count": 33
        }
      ]
    }
  ]
}